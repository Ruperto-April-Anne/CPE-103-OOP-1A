{
  "nbformat": 4,
  "nbformat_minor": 0,
  "metadata": {
    "colab": {
      "provenance": [],
      "authorship_tag": "ABX9TyM18JQAAonrdMQxVDiEYVdB",
      "include_colab_link": true
    },
    "kernelspec": {
      "name": "python3",
      "display_name": "Python 3"
    },
    "language_info": {
      "name": "python"
    }
  },
  "cells": [
    {
      "cell_type": "markdown",
      "metadata": {
        "id": "view-in-github",
        "colab_type": "text"
      },
      "source": [
        "<a href=\"https://colab.research.google.com/github/Ruperto-April-Anne/CPE-103-OOP-1A/blob/main/Python_Fundamentals.ipynb\" target=\"_parent\"><img src=\"https://colab.research.google.com/assets/colab-badge.svg\" alt=\"Open In Colab\"/></a>"
      ]
    },
    {
      "cell_type": "markdown",
      "source": [
        "Python Indentation"
      ],
      "metadata": {
        "id": "Y4WJ011xFixK"
      }
    },
    {
      "cell_type": "code",
      "source": [
        "x = 5\n",
        "y = 2\n",
        "if x>y:\n",
        " print (\"Five is greater than two\")\n",
        "elif x<y:\n",
        " print (\"Five is less than two\")"
      ],
      "metadata": {
        "colab": {
          "base_uri": "https://localhost:8080/"
        },
        "id": "c2sZb1VKGfub",
        "outputId": "6468686c-58e9-4167-cb8d-14a52961ae63"
      },
      "execution_count": 22,
      "outputs": [
        {
          "output_type": "stream",
          "name": "stdout",
          "text": [
            "Five is greater than two\n"
          ]
        }
      ]
    },
    {
      "cell_type": "markdown",
      "source": [
        "Python Comments"
      ],
      "metadata": {
        "id": "P4XLxDlDG0Nq"
      }
    },
    {
      "cell_type": "code",
      "source": [
        "#This is a comment\n",
        "print (\"Hello World\")"
      ],
      "metadata": {
        "colab": {
          "base_uri": "https://localhost:8080/"
        },
        "id": "t9Rz3DBTG3t6",
        "outputId": "2b6d97dc-403a-40d4-bc67-7c0bdfa5b8d5"
      },
      "execution_count": 23,
      "outputs": [
        {
          "output_type": "stream",
          "name": "stdout",
          "text": [
            "Hello World\n"
          ]
        }
      ]
    },
    {
      "cell_type": "markdown",
      "source": [
        "Variable Naming Conventions"
      ],
      "metadata": {
        "id": "5YtzcCKCIiVZ"
      }
    },
    {
      "cell_type": "code",
      "source": [
        "myvar = \"John\"\n",
        "myvar = \"John\"\n",
        "myVar = \"John\"\n",
        "my_var = \"John\""
      ],
      "metadata": {
        "id": "K_T80qNsKGMC"
      },
      "execution_count": 21,
      "outputs": []
    },
    {
      "cell_type": "markdown",
      "source": [
        "Python Variable"
      ],
      "metadata": {
        "id": "EyF7eLAxKZLJ"
      }
    },
    {
      "cell_type": "code",
      "source": [
        "#Examples;\n",
        "x = 1\n",
        "a, b=0, -1\n",
        "a, b, c=0, -1, 2\n",
        "\n",
        "print (a)\n",
        "print (b)\n",
        "print (c)"
      ],
      "metadata": {
        "colab": {
          "base_uri": "https://localhost:8080/"
        },
        "id": "BH6MHMQxKdp5",
        "outputId": "18c8d9b4-319a-45d9-d21c-a3cdb2310211"
      },
      "execution_count": 26,
      "outputs": [
        {
          "output_type": "stream",
          "name": "stdout",
          "text": [
            "0\n",
            "-1\n",
            "2\n"
          ]
        }
      ]
    },
    {
      "cell_type": "code",
      "source": [
        "#Others:\n",
        "b = \"Sally\" #This is a type of string\n",
        "print (b)"
      ],
      "metadata": {
        "colab": {
          "base_uri": "https://localhost:8080/"
        },
        "id": "4pMHZzeELyRK",
        "outputId": "1b2168b7-e493-4395-8ad5-7396ac28b9fd"
      },
      "execution_count": 28,
      "outputs": [
        {
          "output_type": "stream",
          "name": "stdout",
          "text": [
            "Sally\n"
          ]
        }
      ]
    },
    {
      "cell_type": "markdown",
      "source": [
        "Casting"
      ],
      "metadata": {
        "id": "nT4brFIsLQYi"
      }
    },
    {
      "cell_type": "code",
      "source": [
        "b = \"sally\" #This is a type of string\n",
        "b = int (4)\n",
        "print (b)\n",
        "\n",
        "b = float(4)\n",
        "print (b)"
      ],
      "metadata": {
        "colab": {
          "base_uri": "https://localhost:8080/"
        },
        "id": "6wT5C9ZcLSGz",
        "outputId": "4a4b917f-b6fd-46bc-8c97-7aa2d1dd862f"
      },
      "execution_count": 29,
      "outputs": [
        {
          "output_type": "stream",
          "name": "stdout",
          "text": [
            "4\n",
            "4.0\n"
          ]
        }
      ]
    },
    {
      "cell_type": "markdown",
      "source": [
        "Type () Function"
      ],
      "metadata": {
        "id": "Hs0i9_7wL_46"
      }
    },
    {
      "cell_type": "code",
      "source": [
        "x = 5\n",
        "y = \"John\"\n",
        "print (type(x))\n",
        "print (type(y))\n"
      ],
      "metadata": {
        "colab": {
          "base_uri": "https://localhost:8080/"
        },
        "id": "jFtDE1rNMD-K",
        "outputId": "2a5af15c-c905-4500-9267-9bc0ed96f89a"
      },
      "execution_count": 30,
      "outputs": [
        {
          "output_type": "stream",
          "name": "stdout",
          "text": [
            "<class 'int'>\n",
            "<class 'str'>\n"
          ]
        }
      ]
    },
    {
      "cell_type": "markdown",
      "source": [
        "\"Double Quotes\" or 'Single Quotes'"
      ],
      "metadata": {
        "id": "UC1_NyFRMjQa"
      }
    },
    {
      "cell_type": "code",
      "source": [
        "y = \"John\"\n",
        "x = 'John'\n",
        "print (x)\n",
        "print (y)"
      ],
      "metadata": {
        "colab": {
          "base_uri": "https://localhost:8080/"
        },
        "id": "q78CQmhVMqJD",
        "outputId": "b2b63261-6d64-4f55-99ac-eec72c9c55a9"
      },
      "execution_count": 40,
      "outputs": [
        {
          "output_type": "stream",
          "name": "stdout",
          "text": [
            "John\n",
            "John\n"
          ]
        }
      ]
    },
    {
      "cell_type": "markdown",
      "source": [
        "Case Sensitive"
      ],
      "metadata": {
        "id": "Ne4gv30qMvaM"
      }
    },
    {
      "cell_type": "code",
      "source": [
        "a = 4\n",
        "A = \"Sally\"\n",
        "#A will not overwrite a\n",
        "\n",
        "print (a)\n",
        "print (A)"
      ],
      "metadata": {
        "colab": {
          "base_uri": "https://localhost:8080/"
        },
        "id": "8sIkCWrdMyix",
        "outputId": "b71d465e-2fc4-450d-e5ed-62096118bacc"
      },
      "execution_count": 34,
      "outputs": [
        {
          "output_type": "stream",
          "name": "stdout",
          "text": [
            "4\n",
            "Sally\n"
          ]
        }
      ]
    },
    {
      "cell_type": "markdown",
      "source": [
        "Multiple Variables"
      ],
      "metadata": {
        "id": "bUlg-fhNNCPD"
      }
    },
    {
      "cell_type": "code",
      "source": [
        "x, y, z = \"one\", \"two\", \"three\"\n",
        "print (x)\n",
        "print (y)\n",
        "print (z)"
      ],
      "metadata": {
        "colab": {
          "base_uri": "https://localhost:8080/"
        },
        "id": "mxhuajWVNETp",
        "outputId": "5c85e0e3-13c2-43f3-dee3-a77351929cb2"
      },
      "execution_count": 35,
      "outputs": [
        {
          "output_type": "stream",
          "name": "stdout",
          "text": [
            "one\n",
            "two\n",
            "three\n"
          ]
        }
      ]
    },
    {
      "cell_type": "markdown",
      "source": [
        "One Value to Multiple Variables"
      ],
      "metadata": {
        "id": "CbHW82xmNSgL"
      }
    },
    {
      "cell_type": "code",
      "source": [
        "x = y = z = \"four\"\n",
        "print (x)\n",
        "print (y)\n",
        "print (z)"
      ],
      "metadata": {
        "colab": {
          "base_uri": "https://localhost:8080/"
        },
        "id": "8YfLj8YNNWt7",
        "outputId": "f194afac-f64b-4c37-ad3b-c02dbb926cf0"
      },
      "execution_count": 36,
      "outputs": [
        {
          "output_type": "stream",
          "name": "stdout",
          "text": [
            "four\n",
            "four\n",
            "four\n"
          ]
        }
      ]
    },
    {
      "cell_type": "markdown",
      "source": [
        "Output Variables"
      ],
      "metadata": {
        "id": "21l5wsFRNh3r"
      }
    },
    {
      "cell_type": "code",
      "source": [
        "x = \"enjoying\"\n",
        "print (\"Python programming is \" + x)"
      ],
      "metadata": {
        "colab": {
          "base_uri": "https://localhost:8080/"
        },
        "id": "_JyXx3LYNkRr",
        "outputId": "541f814c-7aef-4687-e1fb-eaeb2d53455c"
      },
      "execution_count": 37,
      "outputs": [
        {
          "output_type": "stream",
          "name": "stdout",
          "text": [
            "Python programming is enjoying\n"
          ]
        }
      ]
    },
    {
      "cell_type": "code",
      "source": [
        "#Other Way;\n",
        "x = \"Python programming is \"\n",
        "y = \"enjoying\"\n",
        "z = x + y\n",
        "print (z)"
      ],
      "metadata": {
        "colab": {
          "base_uri": "https://localhost:8080/"
        },
        "id": "0TEsQ5GcNzfq",
        "outputId": "6a5d5b30-b4ca-4bae-9e35-8c36c3a82bf0"
      },
      "execution_count": 39,
      "outputs": [
        {
          "output_type": "stream",
          "name": "stdout",
          "text": [
            "Python programming is enjoying\n"
          ]
        }
      ]
    },
    {
      "cell_type": "markdown",
      "source": [
        "Arithmetic Programming"
      ],
      "metadata": {
        "id": "8L37nwDTOYts"
      }
    },
    {
      "cell_type": "code",
      "source": [
        "#Addition\n",
        "x = 5\n",
        "y = 3\n",
        "print (x + y)\n",
        "\n",
        "x = 5\n",
        "y = 3\n",
        "sum = x + y\n",
        "print (sum)"
      ],
      "metadata": {
        "colab": {
          "base_uri": "https://localhost:8080/"
        },
        "id": "24_ggd-4OjRa",
        "outputId": "b5cf1ad4-082f-495b-a31e-39e076d7e3de"
      },
      "execution_count": 41,
      "outputs": [
        {
          "output_type": "stream",
          "name": "stdout",
          "text": [
            "8\n",
            "8\n"
          ]
        }
      ]
    },
    {
      "cell_type": "code",
      "source": [
        "#Subtraction\n",
        "x = 5\n",
        "y = 3\n",
        "print (x - y)\n",
        "\n",
        "x = 5\n",
        "y = 3\n",
        "difference = x - y\n",
        "print (difference)"
      ],
      "metadata": {
        "colab": {
          "base_uri": "https://localhost:8080/"
        },
        "id": "rpdilEEmP_Fr",
        "outputId": "5ea1603c-b105-4213-a345-7808a93c1267"
      },
      "execution_count": 45,
      "outputs": [
        {
          "output_type": "stream",
          "name": "stdout",
          "text": [
            "2\n",
            "2\n"
          ]
        }
      ]
    },
    {
      "cell_type": "code",
      "source": [
        "#Multiplication\n",
        "x = 5\n",
        "y = 3\n",
        "print (x * y)\n",
        "\n",
        "x = 5\n",
        "y = 3\n",
        "product = x * y\n",
        "print (product)"
      ],
      "metadata": {
        "colab": {
          "base_uri": "https://localhost:8080/"
        },
        "id": "j0GW0OYPQI0z",
        "outputId": "60985beb-9368-401c-aeb2-b5b212e262c2"
      },
      "execution_count": 46,
      "outputs": [
        {
          "output_type": "stream",
          "name": "stdout",
          "text": [
            "15\n",
            "15\n"
          ]
        }
      ]
    },
    {
      "cell_type": "code",
      "source": [
        "#Division\n",
        "x = 5\n",
        "y = 3\n",
        "print (x / y)\n",
        "\n",
        "x = 5\n",
        "y = 3\n",
        "quotient = x / y\n",
        "print (quotient)"
      ],
      "metadata": {
        "colab": {
          "base_uri": "https://localhost:8080/"
        },
        "id": "dy3vK8LKQOhb",
        "outputId": "66ae1214-851a-47f4-bc46-4770d2f20420"
      },
      "execution_count": 47,
      "outputs": [
        {
          "output_type": "stream",
          "name": "stdout",
          "text": [
            "1.6666666666666667\n",
            "1.6666666666666667\n"
          ]
        }
      ]
    },
    {
      "cell_type": "code",
      "source": [
        "#Modulus\n",
        "x = 5\n",
        "y = 3\n",
        "print (x % y)\n",
        "\n",
        "x = 5\n",
        "y = 3\n",
        "remainder = x % y\n",
        "print (remainder)"
      ],
      "metadata": {
        "colab": {
          "base_uri": "https://localhost:8080/"
        },
        "id": "QNksPyckQWJa",
        "outputId": "e0d6a7d6-3beb-4e2a-882f-21eaee0070b1"
      },
      "execution_count": 48,
      "outputs": [
        {
          "output_type": "stream",
          "name": "stdout",
          "text": [
            "2\n",
            "2\n"
          ]
        }
      ]
    },
    {
      "cell_type": "code",
      "source": [
        "#Exponentation\n",
        "x = 5\n",
        "y = 3\n",
        "print (x ** y) #is equal to 5^3\n",
        "\n",
        "x = 5\n",
        "y = 3\n",
        "exponent = x ** y\n",
        "print (exponent)"
      ],
      "metadata": {
        "colab": {
          "base_uri": "https://localhost:8080/"
        },
        "id": "W3bjxhxZQc6z",
        "outputId": "b6a38e59-0a43-4566-d73a-a00099a6ff60"
      },
      "execution_count": 50,
      "outputs": [
        {
          "output_type": "stream",
          "name": "stdout",
          "text": [
            "125\n",
            "125\n"
          ]
        }
      ]
    },
    {
      "cell_type": "code",
      "source": [
        "#Floor Division\n",
        "x = 5\n",
        "y = 3\n",
        "print (x // y)\n",
        "#Floor division rounds the quotient to the nearest whole number."
      ],
      "metadata": {
        "colab": {
          "base_uri": "https://localhost:8080/"
        },
        "id": "pjmXZIgYQuxi",
        "outputId": "233882fa-c123-4032-f73c-489db04d3509"
      },
      "execution_count": 51,
      "outputs": [
        {
          "output_type": "stream",
          "name": "stdout",
          "text": [
            "1\n"
          ]
        }
      ]
    },
    {
      "cell_type": "markdown",
      "source": [
        "Assignment Operators"
      ],
      "metadata": {
        "id": "7xmaGeWlOt46"
      }
    },
    {
      "cell_type": "code",
      "source": [
        "a, b, c = 0, -1, 6\n",
        "c %= 3 #same as c = c % 3 or the printed value will be the remainder\n",
        "c"
      ],
      "metadata": {
        "colab": {
          "base_uri": "https://localhost:8080/"
        },
        "id": "hKDSXwzlOzj7",
        "outputId": "1dbcf47a-ad15-4e45-d80f-73a234a107ed"
      },
      "execution_count": 62,
      "outputs": [
        {
          "output_type": "execute_result",
          "data": {
            "text/plain": [
              "0"
            ]
          },
          "metadata": {},
          "execution_count": 62
        }
      ]
    },
    {
      "cell_type": "code",
      "source": [
        "#Exponent\n",
        "a, b, c = 0, -1, 6\n",
        "c **= 3\n",
        "c"
      ],
      "metadata": {
        "colab": {
          "base_uri": "https://localhost:8080/"
        },
        "id": "9WzdwSfWSHEk",
        "outputId": "979aa85c-c5d4-426a-fd34-a4c2262ffa72"
      },
      "execution_count": 63,
      "outputs": [
        {
          "output_type": "execute_result",
          "data": {
            "text/plain": [
              "216"
            ]
          },
          "metadata": {},
          "execution_count": 63
        }
      ]
    },
    {
      "cell_type": "code",
      "source": [
        "#\n",
        "a, b, c = 0, -1, 6\n",
        "c &= 3\n",
        "c"
      ],
      "metadata": {
        "colab": {
          "base_uri": "https://localhost:8080/"
        },
        "id": "kfnJlYYLSqZc",
        "outputId": "e19b2322-b5bd-4265-e752-a9f2b7114de7"
      },
      "execution_count": 64,
      "outputs": [
        {
          "output_type": "execute_result",
          "data": {
            "text/plain": [
              "2"
            ]
          },
          "metadata": {},
          "execution_count": 64
        }
      ]
    },
    {
      "cell_type": "code",
      "source": [
        "#\n",
        "a, b, c = 0, -1, 6\n",
        "c != 3\n",
        "c"
      ],
      "metadata": {
        "colab": {
          "base_uri": "https://localhost:8080/"
        },
        "id": "vGeaBD_ESyIl",
        "outputId": "ce031274-5721-4c9e-bf1c-d27dd2707431"
      },
      "execution_count": 65,
      "outputs": [
        {
          "output_type": "execute_result",
          "data": {
            "text/plain": [
              "6"
            ]
          },
          "metadata": {},
          "execution_count": 65
        }
      ]
    },
    {
      "cell_type": "code",
      "source": [
        "#\n",
        "a, b, c = 0, -1, 6\n",
        "c ^= 3\n",
        "c"
      ],
      "metadata": {
        "colab": {
          "base_uri": "https://localhost:8080/"
        },
        "id": "CbXi2gQ5S5hk",
        "outputId": "82637612-3cc3-4fb2-df7f-6c66d7039214"
      },
      "execution_count": 66,
      "outputs": [
        {
          "output_type": "execute_result",
          "data": {
            "text/plain": [
              "5"
            ]
          },
          "metadata": {},
          "execution_count": 66
        }
      ]
    },
    {
      "cell_type": "code",
      "source": [
        "#\n",
        "a, b, c = 0, -1, 6\n",
        "c >>= 3\n",
        "c"
      ],
      "metadata": {
        "colab": {
          "base_uri": "https://localhost:8080/"
        },
        "id": "iANYsfj-S88c",
        "outputId": "3a9e6a4c-70ae-477f-ca08-b96cf0a9967d"
      },
      "execution_count": 67,
      "outputs": [
        {
          "output_type": "execute_result",
          "data": {
            "text/plain": [
              "0"
            ]
          },
          "metadata": {},
          "execution_count": 67
        }
      ]
    },
    {
      "cell_type": "code",
      "source": [
        "#\n",
        "a, b, c = 0, -1, 6\n",
        "c <<= 3\n",
        "c"
      ],
      "metadata": {
        "colab": {
          "base_uri": "https://localhost:8080/"
        },
        "id": "4pFr8-bpS_0d",
        "outputId": "f122eec5-53ac-4136-8049-e5b3a4935e22"
      },
      "execution_count": 68,
      "outputs": [
        {
          "output_type": "execute_result",
          "data": {
            "text/plain": [
              "48"
            ]
          },
          "metadata": {},
          "execution_count": 68
        }
      ]
    },
    {
      "cell_type": "markdown",
      "source": [
        "Comparison Operators"
      ],
      "metadata": {
        "id": "78IKx9C-PaD8"
      }
    },
    {
      "cell_type": "code",
      "source": [
        "#Equal\n",
        "x = 3\n",
        "y = 5\n",
        "z = x==y\n",
        "print (z)"
      ],
      "metadata": {
        "colab": {
          "base_uri": "https://localhost:8080/"
        },
        "id": "1RHv65bVREbM",
        "outputId": "b3174a06-0af8-4881-ec77-dd5bc50d7a43"
      },
      "execution_count": 52,
      "outputs": [
        {
          "output_type": "stream",
          "name": "stdout",
          "text": [
            "False\n"
          ]
        }
      ]
    },
    {
      "cell_type": "code",
      "source": [
        "#Not Equal\n",
        "x = 3\n",
        "y = 5\n",
        "z = x!=y\n",
        "print (z)"
      ],
      "metadata": {
        "colab": {
          "base_uri": "https://localhost:8080/"
        },
        "id": "RMmYWg1gRTvs",
        "outputId": "edd55f04-1df3-45dc-e74f-67022f12c007"
      },
      "execution_count": 53,
      "outputs": [
        {
          "output_type": "stream",
          "name": "stdout",
          "text": [
            "True\n"
          ]
        }
      ]
    },
    {
      "cell_type": "code",
      "source": [
        "#Greater Than\n",
        "x = 3\n",
        "y = 5\n",
        "z = x > y\n",
        "print (z)"
      ],
      "metadata": {
        "colab": {
          "base_uri": "https://localhost:8080/"
        },
        "id": "TBNCycpeRddS",
        "outputId": "9a279615-6e08-48ae-efa5-bda9334adc9d"
      },
      "execution_count": 54,
      "outputs": [
        {
          "output_type": "stream",
          "name": "stdout",
          "text": [
            "False\n"
          ]
        }
      ]
    },
    {
      "cell_type": "code",
      "source": [
        "#Less Than\n",
        "x = 3\n",
        "y = 5\n",
        "z = x < y\n",
        "print (z)"
      ],
      "metadata": {
        "colab": {
          "base_uri": "https://localhost:8080/"
        },
        "id": "uxJoiVOVRkvT",
        "outputId": "f454706c-33c5-40eb-f1be-cdb350762210"
      },
      "execution_count": 55,
      "outputs": [
        {
          "output_type": "stream",
          "name": "stdout",
          "text": [
            "True\n"
          ]
        }
      ]
    },
    {
      "cell_type": "code",
      "source": [
        "#Greater Than or Equal To\n",
        "x = 3\n",
        "y = 5\n",
        "z = x >= y\n",
        "print (z)"
      ],
      "metadata": {
        "colab": {
          "base_uri": "https://localhost:8080/"
        },
        "id": "BbwUr8d0RrJr",
        "outputId": "d6a44a71-b249-4386-ffd3-0d3840cceb48"
      },
      "execution_count": 59,
      "outputs": [
        {
          "output_type": "stream",
          "name": "stdout",
          "text": [
            "False\n"
          ]
        }
      ]
    },
    {
      "cell_type": "code",
      "source": [
        "#Less than or Equal To\n",
        "x = 3\n",
        "y = 5\n",
        "z = x <= y\n",
        "print (z)"
      ],
      "metadata": {
        "colab": {
          "base_uri": "https://localhost:8080/"
        },
        "id": "RF1i6xDYRykD",
        "outputId": "16e8444f-aa0f-4d55-9fa8-35debf1d9393"
      },
      "execution_count": 57,
      "outputs": [
        {
          "output_type": "stream",
          "name": "stdout",
          "text": [
            "True\n"
          ]
        }
      ]
    },
    {
      "cell_type": "markdown",
      "source": [
        "Logical Operators"
      ],
      "metadata": {
        "id": "xSzC_swnPdyz"
      }
    },
    {
      "cell_type": "code",
      "source": [
        "a, b, c = 0, -1, 6\n",
        "a > b and c > b\n",
        "True"
      ],
      "metadata": {
        "colab": {
          "base_uri": "https://localhost:8080/"
        },
        "id": "TIJeNxyNPgia",
        "outputId": "d9a0f067-9d39-4ae7-b73f-d4c6e00b2036"
      },
      "execution_count": 43,
      "outputs": [
        {
          "output_type": "execute_result",
          "data": {
            "text/plain": [
              "True"
            ]
          },
          "metadata": {},
          "execution_count": 43
        }
      ]
    },
    {
      "cell_type": "code",
      "source": [
        "x = 5\n",
        "y = 2\n",
        "not (x < y)"
      ],
      "metadata": {
        "colab": {
          "base_uri": "https://localhost:8080/"
        },
        "id": "CX2M_zvCUEOb",
        "outputId": "9734ab7f-e39f-4e93-b315-413db1645f40"
      },
      "execution_count": 69,
      "outputs": [
        {
          "output_type": "execute_result",
          "data": {
            "text/plain": [
              "True"
            ]
          },
          "metadata": {},
          "execution_count": 69
        }
      ]
    },
    {
      "cell_type": "markdown",
      "source": [
        "Identity Operators"
      ],
      "metadata": {
        "id": "XyaL2LnbPryr"
      }
    },
    {
      "cell_type": "code",
      "source": [
        "a, b, c = 0, -1, 5\n",
        "a is c\n",
        "False"
      ],
      "metadata": {
        "colab": {
          "base_uri": "https://localhost:8080/"
        },
        "id": "QhMQaje8PuIs",
        "outputId": "8ecf2e91-32bd-409b-ac70-2132aaa45436"
      },
      "execution_count": 44,
      "outputs": [
        {
          "output_type": "execute_result",
          "data": {
            "text/plain": [
              "False"
            ]
          },
          "metadata": {},
          "execution_count": 44
        }
      ]
    },
    {
      "cell_type": "markdown",
      "source": [
        "Bitwise Operators"
      ],
      "metadata": {
        "id": "c4bGoFlkPzGb"
      }
    },
    {
      "cell_type": "code",
      "source": [
        "#decimal to binary\n",
        "#10 = 01010\n",
        "\n",
        "\n",
        "x = 10\n",
        "x << 1"
      ],
      "metadata": {
        "colab": {
          "base_uri": "https://localhost:8080/"
        },
        "id": "JXGM-BuAUh8M",
        "outputId": "015ee6f8-3478-46a7-e927-ac241f27be82"
      },
      "execution_count": 83,
      "outputs": [
        {
          "output_type": "execute_result",
          "data": {
            "text/plain": [
              "20"
            ]
          },
          "metadata": {},
          "execution_count": 83
        }
      ]
    },
    {
      "cell_type": "code",
      "source": [
        "#Another Example\n",
        "# 1 0 1 0 0\n",
        "#16 8 4 2 1 //move to right\n",
        "\n",
        "#0  1 0 1 0\n",
        "#16 8 4 2 1\n",
        "\n",
        "x = 20\n",
        "x >> 2"
      ],
      "metadata": {
        "colab": {
          "base_uri": "https://localhost:8080/"
        },
        "id": "eFr-fZa5U82K",
        "outputId": "27ab2b65-6a73-48f1-ed60-22517a8a3355"
      },
      "execution_count": 89,
      "outputs": [
        {
          "output_type": "execute_result",
          "data": {
            "text/plain": [
              "5"
            ]
          },
          "metadata": {},
          "execution_count": 89
        }
      ]
    },
    {
      "cell_type": "markdown",
      "source": [
        "APPLICATION 1"
      ],
      "metadata": {
        "id": "sU0hyYopYSus"
      }
    },
    {
      "cell_type": "code",
      "source": [
        "#Application 1\n",
        "#Rectangle = L*W*H\n",
        "\n",
        "\n",
        "l = input (\"Enter the length of the rectangle:\")\n",
        "w = input (\"Enter the width of the rectangle:\")\n",
        "h = input (\"Enter the height of the rectangle:\")\n",
        "z = float(l) * float(w) * float(h)\n",
        "\n",
        "print (\"The area of the rectangle is:\", z)"
      ],
      "metadata": {
        "colab": {
          "base_uri": "https://localhost:8080/"
        },
        "collapsed": true,
        "id": "nWaM7pldYPQH",
        "outputId": "487e1170-94e7-41ed-ebd2-c3441a83337a"
      },
      "execution_count": 99,
      "outputs": [
        {
          "output_type": "stream",
          "name": "stdout",
          "text": [
            "Enter the length of the rectangle:5\n",
            "Enter the width of the rectangle:7.5\n",
            "Enter the height of the rectangle:4\n",
            "The area of the rectangle is: 150.0\n"
          ]
        }
      ]
    },
    {
      "cell_type": "code",
      "source": [
        "#Triangle\n",
        "a = float(.5)\n",
        "b = input (\"Enter the base of the triangle:\")\n",
        "c = input (\"Enter the height of the triangle:\")\n",
        "z = a * float(b) * float(c)\n",
        "\n",
        "print (\"The area of the triangle is:\", z)"
      ],
      "metadata": {
        "colab": {
          "base_uri": "https://localhost:8080/"
        },
        "collapsed": true,
        "id": "VCVj3wnuaXd0",
        "outputId": "5e032315-8e04-4b60-f13b-87b72262dd3d"
      },
      "execution_count": 96,
      "outputs": [
        {
          "output_type": "stream",
          "name": "stdout",
          "text": [
            "Enter the base of the triangle:3\n",
            "Enter the height of the triangle:4\n",
            "The area of the triangle is: 6.0\n"
          ]
        }
      ]
    },
    {
      "cell_type": "code",
      "source": [
        "#Circle\n",
        "pi = 3.14\n",
        "r = input (\"Enter the radius of the circle:\")\n",
        "r = float(r)\n",
        "z = pi * (r**2)\n",
        "\n",
        "print (\"The area of the circle is:\", z)"
      ],
      "metadata": {
        "colab": {
          "base_uri": "https://localhost:8080/"
        },
        "collapsed": true,
        "id": "aveXGguZbALl",
        "outputId": "56ec170e-8085-4066-e0aa-eb880e7351e3"
      },
      "execution_count": 103,
      "outputs": [
        {
          "output_type": "stream",
          "name": "stdout",
          "text": [
            "Enter the radius of the circle:4.5\n",
            "The area of the circle is: 63.585\n"
          ]
        }
      ]
    }
  ]
}
