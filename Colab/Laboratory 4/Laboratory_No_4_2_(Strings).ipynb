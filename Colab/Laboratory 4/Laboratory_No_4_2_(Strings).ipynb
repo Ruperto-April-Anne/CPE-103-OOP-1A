{
  "nbformat": 4,
  "nbformat_minor": 0,
  "metadata": {
    "colab": {
      "provenance": [],
      "authorship_tag": "ABX9TyO43MIX6sxHY4FxWOeMCC11",
      "include_colab_link": true
    },
    "kernelspec": {
      "name": "python3",
      "display_name": "Python 3"
    },
    "language_info": {
      "name": "python"
    }
  },
  "cells": [
    {
      "cell_type": "markdown",
      "metadata": {
        "id": "view-in-github",
        "colab_type": "text"
      },
      "source": [
        "<a href=\"https://colab.research.google.com/github/Ruperto-April-Anne/CPE-103-OOP-1A/blob/main/Laboratory_No_4_2_(Strings).ipynb\" target=\"_parent\"><img src=\"https://colab.research.google.com/assets/colab-badge.svg\" alt=\"Open In Colab\"/></a>"
      ]
    },
    {
      "cell_type": "markdown",
      "source": [
        "<center>\n",
        "\n",
        "> **A string is a sequence.**"
      ],
      "metadata": {
        "id": "R_ycAFj_al24"
      }
    },
    {
      "cell_type": "code",
      "execution_count": 21,
      "metadata": {
        "id": "_wXoqd4jakSf"
      },
      "outputs": [],
      "source": [
        "fruit = 'banana'\n",
        "letter = fruit[1]"
      ]
    },
    {
      "cell_type": "markdown",
      "source": [
        "- This fruit = 'banana' in the given code makes string and assign banana to a fruit. So, fruit[0] refers to the first character of the string, while fruit[1] refers to the second character in the string. Since the second letter of 'banana' is 'a', letter will have the value 'a'. So, in the current case, letter = fruit[1] means that it'll assign 'a' to the variable letter."
      ],
      "metadata": {
        "id": "solctTABee5X"
      }
    },
    {
      "cell_type": "code",
      "source": [
        "print(letter)"
      ],
      "metadata": {
        "colab": {
          "base_uri": "https://localhost:8080/"
        },
        "collapsed": true,
        "id": "1rFGZK7fa5jo",
        "outputId": "802e6305-7834-4024-eed3-6d29d47f2c42"
      },
      "execution_count": 2,
      "outputs": [
        {
          "output_type": "stream",
          "name": "stdout",
          "text": [
            "a\n"
          ]
        }
      ]
    },
    {
      "cell_type": "markdown",
      "source": [
        "- After the code, if you add print(letter), it would show the value which is stored for the letter variable. When you think letter = fruit[1] and fruit = 'banana' then letter is 'a'. Therefore, the output of this code will be \"a\"."
      ],
      "metadata": {
        "id": "8Np9mHpuegC3"
      }
    },
    {
      "cell_type": "code",
      "source": [
        "letter = fruit[0]\n",
        "print(letter)"
      ],
      "metadata": {
        "colab": {
          "base_uri": "https://localhost:8080/"
        },
        "collapsed": true,
        "id": "1w0lJZY3bEQo",
        "outputId": "ec3b998a-4f35-4945-bd2b-578e2a5a9438"
      },
      "execution_count": 3,
      "outputs": [
        {
          "output_type": "stream",
          "name": "stdout",
          "text": [
            "b\n"
          ]
        }
      ]
    },
    {
      "cell_type": "markdown",
      "source": [
        "- Now, fruit is a variable assigned to the string fruit = 'banana' The first character of the string 'banana' is accessed using the statement fruit[0] The first letter is 'b' so letter becomes 'b'. So, when you execute print(letter), its output will be \"b\"."
      ],
      "metadata": {
        "id": "ps3Ju-vgfldn"
      }
    },
    {
      "cell_type": "code",
      "source": [
        "letter = fruit[1]"
      ],
      "metadata": {
        "collapsed": true,
        "id": "LYd7erAWbJkn"
      },
      "execution_count": 22,
      "outputs": []
    },
    {
      "cell_type": "markdown",
      "source": [
        "- This will raise a TypeError because Python does not know how to access a float in a string. The error message will be similar to \"TypeError: string indices must be integers, not float\". The suggetion is that to correct this you need to use an integer index (1), not 1.5."
      ],
      "metadata": {
        "id": "I885AUTLehNv"
      }
    },
    {
      "cell_type": "markdown",
      "source": [
        "<center>\n",
        "\n",
        "> **Getting the length of a string using len**"
      ],
      "metadata": {
        "id": "q1zBl2wPd9lw"
      }
    },
    {
      "cell_type": "code",
      "source": [
        "fruit = 'banana'\n",
        "len(fruit)"
      ],
      "metadata": {
        "colab": {
          "base_uri": "https://localhost:8080/"
        },
        "collapsed": true,
        "id": "zkQgcc9YbMu3",
        "outputId": "a2e85734-f8d0-454e-d45f-2eb3189c7cf5"
      },
      "execution_count": 5,
      "outputs": [
        {
          "output_type": "execute_result",
          "data": {
            "text/plain": [
              "6"
            ]
          },
          "metadata": {},
          "execution_count": 5
        }
      ]
    },
    {
      "cell_type": "markdown",
      "source": [
        "- The len() function returns the number of characters in the string fruit. The string 'banana' contains 6 characters ('b', 'a', 'n', 'a', 'n', 'a'), so it will return 6."
      ],
      "metadata": {
        "id": "vNfaH4nyerBZ"
      }
    },
    {
      "cell_type": "code",
      "source": [
        "lenght = len(fruit)\n",
        "last = fruit[lenght]"
      ],
      "metadata": {
        "collapsed": true,
        "id": "KLOO-bqIbSNw"
      },
      "execution_count": null,
      "outputs": []
    },
    {
      "cell_type": "markdown",
      "source": [
        "- For example, lenght = len(fruit) gets the length of the string fruit, which is 'banana', and stores 6 in lenght. But at the next line last = fruit[lenght], here index lenght = 6 it is out of bounds of the string 'banana'. String indices are zero-based, the valid ones for 'banana' are from 0 to 5 and hence accessing fruit[6] raises IndexError. If you want to properly access the last character of that string, you need to either subtract 1 from the length (e.g. fruit[lenght - 1]) or, even better, to use the negative index: fruit[-1] which always refers to the last character in a string."
      ],
      "metadata": {
        "id": "Y_Y0m74XeyiH"
      }
    },
    {
      "cell_type": "code",
      "source": [
        "last = fruit[lenght - 1]\n",
        "print(last)"
      ],
      "metadata": {
        "colab": {
          "base_uri": "https://localhost:8080/"
        },
        "collapsed": true,
        "id": "li1bE4zGbZBn",
        "outputId": "d6e76f2c-8960-4452-a8c1-0e81713a284f"
      },
      "execution_count": 7,
      "outputs": [
        {
          "output_type": "stream",
          "name": "stdout",
          "text": [
            "a\n"
          ]
        }
      ]
    },
    {
      "cell_type": "markdown",
      "source": [
        "- In the corrected code, lenght = len(fruit) gets the length of the string 'banana', which is 6. Then, lenght - 1 returns 5, so fruit[lenght - 1] is like fruit[5]. One note is Python uses zero based indexing so the third character is 'a' at index 5 and it is also the last character 'a' of string 'banana'. So, when you run print(last), it actually prints the last character of the string, which is 'a'. So, the output of the code will be a."
      ],
      "metadata": {
        "id": "5d0hVwPDezxf"
      }
    },
    {
      "cell_type": "markdown",
      "source": [
        "<center>\n",
        "\n",
        "> **Traversal through a string with a loop**"
      ],
      "metadata": {
        "id": "7u0wdFbaeFUn"
      }
    },
    {
      "cell_type": "code",
      "source": [
        "index = 0\n",
        "while index < len(fruit):\n",
        "  letter = fruit[index]\n",
        "  print(letter)\n",
        "  index = index + 1"
      ],
      "metadata": {
        "colab": {
          "base_uri": "https://localhost:8080/"
        },
        "collapsed": true,
        "id": "f4wdPy18br6w",
        "outputId": "0f08bb67-5e39-4ec3-95e3-b3c6821214a8"
      },
      "execution_count": 9,
      "outputs": [
        {
          "output_type": "stream",
          "name": "stdout",
          "text": [
            "b\n",
            "a\n",
            "n\n",
            "a\n",
            "n\n",
            "a\n"
          ]
        }
      ]
    },
    {
      "cell_type": "markdown",
      "source": [
        "- The provided code uses a while loop to go through each character in the string which is 'banana'. It begins with an index of 0 and continues as long as the index is less than the length of the string. Inside the loop, it retrieves and prints the character at the current index, then increases the index by 1 to move to the next character. This repeats until all characters in 'banana' are printed, resulting in each character being displayed on a new line."
      ],
      "metadata": {
        "id": "Sw_X5cyOe0y_"
      }
    },
    {
      "cell_type": "code",
      "source": [
        "for char in fruit:\n",
        "  print(char)"
      ],
      "metadata": {
        "colab": {
          "base_uri": "https://localhost:8080/"
        },
        "collapsed": true,
        "id": "-A50QUUNb7bQ",
        "outputId": "a374a02e-c266-4cc6-a63b-bee370a21394"
      },
      "execution_count": 11,
      "outputs": [
        {
          "output_type": "stream",
          "name": "stdout",
          "text": [
            "b\n",
            "a\n",
            "n\n",
            "a\n",
            "n\n",
            "a\n"
          ]
        }
      ]
    },
    {
      "cell_type": "markdown",
      "source": [
        "- It employs a for loop to iterate through each character in the string 'banana'. In each iteration, the loop assigns the current character to the variable 'char' and prints it. This approach is simpler and more concise compared to using a while loop."
      ],
      "metadata": {
        "id": "t9K-lNtte2ef"
      }
    },
    {
      "cell_type": "markdown",
      "source": [
        "<center>\n",
        "\n",
        "> **String slices**"
      ],
      "metadata": {
        "id": "VEwtSdY-eKjY"
      }
    },
    {
      "cell_type": "code",
      "source": [
        "s = 'Monty Python'\n",
        "print(s[0:5])"
      ],
      "metadata": {
        "colab": {
          "base_uri": "https://localhost:8080/"
        },
        "collapsed": true,
        "id": "lHL_pJ15cB-h",
        "outputId": "20a5f4ab-1318-4481-9ace-859c1eda19c3"
      },
      "execution_count": 12,
      "outputs": [
        {
          "output_type": "stream",
          "name": "stdout",
          "text": [
            "Monty\n"
          ]
        }
      ]
    },
    {
      "cell_type": "markdown",
      "source": [
        "- The string 's' is 'Monty Python'. The expression s[0:5] uses slicing to obtain a substring from the string. The slice begins at index 0 and goes up to, but does not include, index 5. Thus, s[0:5] extracts the characters at indices 0, 1, 2, 3, and 4, which are 'M', 'o', 'n', 't', 'y'."
      ],
      "metadata": {
        "id": "Pg-BwiChe3X_"
      }
    },
    {
      "cell_type": "code",
      "source": [
        "print(s[6:12])"
      ],
      "metadata": {
        "colab": {
          "base_uri": "https://localhost:8080/"
        },
        "collapsed": true,
        "id": "byBdqmR3cJj_",
        "outputId": "35b08c09-1b45-45e4-dccc-8f909f8d464e"
      },
      "execution_count": 13,
      "outputs": [
        {
          "output_type": "stream",
          "name": "stdout",
          "text": [
            "Python\n"
          ]
        }
      ]
    },
    {
      "cell_type": "markdown",
      "source": [
        "- In the case of the string 's' being 'Monty Python', the slice s[6:12] extracts a substring starting from index 6 and goes up to, but not including, index 12. The character at index 6 is 'P', and the characters at indices 7, 8, 9, 10, and 11 are 'y', 't', 'h', 'o', 'n', respectively. Therefore, s[6:12] returns the substring 'Python'."
      ],
      "metadata": {
        "id": "kAk60Rcbe5kP"
      }
    },
    {
      "cell_type": "code",
      "source": [
        "fruit = 'banana'\n",
        "fruit[:3]"
      ],
      "metadata": {
        "colab": {
          "base_uri": "https://localhost:8080/",
          "height": 35
        },
        "collapsed": true,
        "id": "lhr8Zitscc1P",
        "outputId": "154fc3a8-ac50-41f5-931b-e411cb4d2588"
      },
      "execution_count": 14,
      "outputs": [
        {
          "output_type": "execute_result",
          "data": {
            "text/plain": [
              "'ban'"
            ],
            "application/vnd.google.colaboratory.intrinsic+json": {
              "type": "string"
            }
          },
          "metadata": {},
          "execution_count": 14
        }
      ]
    },
    {
      "cell_type": "markdown",
      "source": [
        "- The slice fruit[:3] indicates to take the characters from the start of the string up to, but not including, index 3. The characters at indices 0, 1, and 2 are 'b', 'a', and 'n'. Hence, fruit[:3] returns the substring 'ban'."
      ],
      "metadata": {
        "id": "N2BHGyTce6oP"
      }
    },
    {
      "cell_type": "code",
      "source": [
        "fruit[3:]"
      ],
      "metadata": {
        "colab": {
          "base_uri": "https://localhost:8080/",
          "height": 35
        },
        "collapsed": true,
        "id": "O03MdVVDcjFX",
        "outputId": "24072196-f2a8-4ced-bd88-eaec65d985eb"
      },
      "execution_count": 15,
      "outputs": [
        {
          "output_type": "execute_result",
          "data": {
            "text/plain": [
              "'ana'"
            ],
            "application/vnd.google.colaboratory.intrinsic+json": {
              "type": "string"
            }
          },
          "metadata": {},
          "execution_count": 15
        }
      ]
    },
    {
      "cell_type": "markdown",
      "source": [
        "- The slice fruit[3:] signifies taking the characters from index 3 to the end of the string. The character at index 3 is 'a', and the characters from index 3 onward are 'a', 'n', 'a'. Thus, fruit[3:] returns the substring 'ana'."
      ],
      "metadata": {
        "id": "8i_crx4We7h3"
      }
    },
    {
      "cell_type": "code",
      "source": [
        "fruit = 'banana'\n",
        "fruit[3:3]"
      ],
      "metadata": {
        "colab": {
          "base_uri": "https://localhost:8080/",
          "height": 35
        },
        "collapsed": true,
        "id": "lxdKrmnfclmn",
        "outputId": "64cc41e4-80a3-4b67-fb83-0c6f9bcfa4ba"
      },
      "execution_count": 16,
      "outputs": [
        {
          "output_type": "execute_result",
          "data": {
            "text/plain": [
              "''"
            ],
            "application/vnd.google.colaboratory.intrinsic+json": {
              "type": "string"
            }
          },
          "metadata": {},
          "execution_count": 16
        }
      ]
    },
    {
      "cell_type": "markdown",
      "source": [
        "- The slice fruit[3:3] means taking the characters from index 3 to index 3. Since the starting and ending indices are the same, no characters are selected. In Python, when the start and end indices of a slice match, the result is an empty string."
      ],
      "metadata": {
        "id": "IuHqJEz6e9df"
      }
    },
    {
      "cell_type": "markdown",
      "source": [
        "<center>\n",
        "\n",
        "> **Strings are immutable**"
      ],
      "metadata": {
        "id": "k4Ysgc0QeNf_"
      }
    },
    {
      "cell_type": "code",
      "source": [
        "greeting = ' Hello, world!'\n",
        "greeting[0] = 'J'"
      ],
      "metadata": {
        "colab": {
          "base_uri": "https://localhost:8080/",
          "height": 159
        },
        "collapsed": true,
        "id": "Hr4zdfCscxp3",
        "outputId": "19830028-c890-4c61-aa2e-751cd28bfc9a"
      },
      "execution_count": 18,
      "outputs": [
        {
          "output_type": "error",
          "ename": "TypeError",
          "evalue": "'str' object does not support item assignment",
          "traceback": [
            "\u001b[0;31m---------------------------------------------------------------------------\u001b[0m",
            "\u001b[0;31mTypeError\u001b[0m                                 Traceback (most recent call last)",
            "\u001b[0;32m<ipython-input-18-14714338ad9f>\u001b[0m in \u001b[0;36m<cell line: 0>\u001b[0;34m()\u001b[0m\n\u001b[1;32m      1\u001b[0m \u001b[0mgreeting\u001b[0m \u001b[0;34m=\u001b[0m \u001b[0;34m' Hello, world!'\u001b[0m\u001b[0;34m\u001b[0m\u001b[0;34m\u001b[0m\u001b[0m\n\u001b[0;32m----> 2\u001b[0;31m \u001b[0mgreeting\u001b[0m\u001b[0;34m[\u001b[0m\u001b[0;36m0\u001b[0m\u001b[0;34m]\u001b[0m \u001b[0;34m=\u001b[0m \u001b[0;34m'J'\u001b[0m\u001b[0;34m\u001b[0m\u001b[0;34m\u001b[0m\u001b[0m\n\u001b[0m",
            "\u001b[0;31mTypeError\u001b[0m: 'str' object does not support item assignment"
          ]
        }
      ]
    },
    {
      "cell_type": "markdown",
      "source": [
        "- You will encounter an error because strings in Python are immutable, which means you cannot change their individual characters directly. When you try to assign 'J' to greeting[0], Python will raise a TypeError since strings cannot be modified in place."
      ],
      "metadata": {
        "id": "1e2qMlxKe_y_"
      }
    },
    {
      "cell_type": "code",
      "source": [
        "greeting = 'Hello, world!'\n",
        "new_greeting = 'J' + greeting[1:]\n",
        "print(new_greeting)"
      ],
      "metadata": {
        "colab": {
          "base_uri": "https://localhost:8080/"
        },
        "collapsed": true,
        "id": "7vH3OOEvc5dY",
        "outputId": "555dbfde-82b4-45ff-a269-d33fd17801cb"
      },
      "execution_count": 19,
      "outputs": [
        {
          "output_type": "stream",
          "name": "stdout",
          "text": [
            "Jello, world!\n"
          ]
        }
      ]
    },
    {
      "cell_type": "markdown",
      "source": [
        "- The code greeting = 'Hello, world!' assigns the string 'Hello, world!' to the variable greeting. The expression greeting[1:] creates a substring starting from index 1 (the second character) to the end of the string, resulting in 'ello, world!'. The operation 'J' + greeting[1:] combines 'J' with the substring 'ello, world!', producing the string 'Jello, world!'."
      ],
      "metadata": {
        "id": "REYCd5rBfAo_"
      }
    },
    {
      "cell_type": "markdown",
      "source": [
        "<center>\n",
        "\n",
        "> **Looping and counting**"
      ],
      "metadata": {
        "id": "NYnVURubeQvg"
      }
    },
    {
      "cell_type": "code",
      "source": [
        "word = 'banana'\n",
        "count = 0\n",
        "for letter in word:\n",
        "  if letter == 'a':\n",
        "    count = count + 1\n",
        "print(count)"
      ],
      "metadata": {
        "colab": {
          "base_uri": "https://localhost:8080/"
        },
        "collapsed": true,
        "id": "5WZaWekqdGmP",
        "outputId": "459cb558-04c3-46be-c390-3b793a3afcdb"
      },
      "execution_count": 20,
      "outputs": [
        {
          "output_type": "stream",
          "name": "stdout",
          "text": [
            "3\n"
          ]
        }
      ]
    },
    {
      "cell_type": "markdown",
      "source": [
        "- The string word = 'banana' is assigned to the variable word. A for loop goes through each character in the string word. Inside the loop, an if statement checks if the current character (letter) is equal to 'a'. Each time 'a' is found, the count variable increases by 1. The loop processes the string and finds 'a' 3 times (at indices 1, 3, and 5)."
      ],
      "metadata": {
        "id": "RUREoYd6fBcH"
      }
    }
  ]
}
