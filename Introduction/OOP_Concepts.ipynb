{
  "nbformat": 4,
  "nbformat_minor": 0,
  "metadata": {
    "colab": {
      "provenance": [],
      "authorship_tag": "ABX9TyNKzawJyoTdOi7br7n8S42a",
      "include_colab_link": true
    },
    "kernelspec": {
      "name": "python3",
      "display_name": "Python 3"
    },
    "language_info": {
      "name": "python"
    }
  },
  "cells": [
    {
      "cell_type": "markdown",
      "metadata": {
        "id": "view-in-github",
        "colab_type": "text"
      },
      "source": [
        "<a href=\"https://colab.research.google.com/github/Ruperto-April-Anne/CPE-103-OOP-1A/blob/main/OOP_Concepts.ipynb\" target=\"_parent\"><img src=\"https://colab.research.google.com/assets/colab-badge.svg\" alt=\"Open In Colab\"/></a>"
      ]
    },
    {
      "cell_type": "markdown",
      "source": [
        "Class Constructor"
      ],
      "metadata": {
        "id": "AYnlBTaK7kIT"
      }
    },
    {
      "cell_type": "code",
      "source": [
        "class Car:\n",
        "  pass #means method with no statements"
      ],
      "metadata": {
        "id": "SlToEHR07fBM"
      },
      "execution_count": 1,
      "outputs": []
    },
    {
      "cell_type": "markdown",
      "source": [
        "Object or Object Instantiation"
      ],
      "metadata": {
        "id": "1xODEH058cSD"
      }
    },
    {
      "cell_type": "code",
      "source": [
        "obj1 = Car()\n",
        "print (obj1)"
      ],
      "metadata": {
        "colab": {
          "base_uri": "https://localhost:8080/"
        },
        "id": "BSpEbAyB8hJj",
        "outputId": "bbdc2e3d-aa3b-43e5-9e40-d5cfcd73fc04"
      },
      "execution_count": 2,
      "outputs": [
        {
          "output_type": "stream",
          "name": "stdout",
          "text": [
            "<__main__.Car object at 0x7a5429c19150>\n"
          ]
        }
      ]
    },
    {
      "cell_type": "markdown",
      "source": [
        "CODES"
      ],
      "metadata": {
        "id": "disQmN8J8577"
      }
    },
    {
      "cell_type": "code",
      "source": [
        "class Car:\n",
        " def __init__(self,name,color):\n",
        "  self.name = name  #attributes\n",
        "  self.color = color\n",
        "pass"
      ],
      "metadata": {
        "collapsed": true,
        "id": "gumf9CSE8qk7"
      },
      "execution_count": 22,
      "outputs": []
    },
    {
      "cell_type": "markdown",
      "source": [
        "Class Methods"
      ],
      "metadata": {
        "id": "V3ir0vOFA716"
      }
    },
    {
      "cell_type": "code",
      "source": [
        "class Car:\n",
        " car_type = \"Sedan\"\n",
        "\n",
        " def __init__(self,name,mileage):\n",
        "    self.name = name\n",
        "    self.mileage = mileage\n",
        "\n",
        " def description(self):\n",
        "    return \"The \" + self.name + \" car gives the mileage of \" + str(self.mileage) + \"km/l\"\n",
        "\n",
        " def max_speed(self,speed):\n",
        "    return \"The \" + self.name + \" runs at the maximum speed of \" + str(speed) + \"km/hr\"\n",
        "\n",
        " def description(self):\n",
        "    return \"The {self.name} car gives the mileage of {self.mileage}km/l\"\n",
        "\n",
        " def max_speed(self,speed):\n",
        "  return \"The {self.name} runs at the maximum speed of {speed}km/hr\""
      ],
      "metadata": {
        "id": "OuLmXc1p_ZhS"
      },
      "execution_count": 18,
      "outputs": []
    },
    {
      "cell_type": "markdown",
      "source": [
        "Multiple Objects With The Same Class"
      ],
      "metadata": {
        "id": "K7UInAjC_e6K"
      }
    },
    {
      "cell_type": "code",
      "source": [
        "class Car: #parent class\n",
        "  def __init__(self,name,mileage):\n",
        "    self.name = name\n",
        "    self.mileage = mileage\n",
        "\n",
        "  def description(self):\n",
        "    return f\"The {self.name} car gives the mileage of {self.mileage}km/l\"\n",
        "\n",
        "class BMW(Car): #child class\n",
        "  pass\n",
        "\n",
        "class Audi(Car): #child class\n",
        "  def audi_desc(self):\n",
        "    return f\"This is the description method of class Audi.\"\n",
        "\n",
        "bmw = BMW(\"BMW 7-series\", 39.53)\n",
        "print(bmw.description())\n",
        "\n",
        "audi = Audi(\"Audi A8 L\", 14)\n",
        "print(audi.description())\n",
        "print(audi.audi_desc())"
      ],
      "metadata": {
        "colab": {
          "base_uri": "https://localhost:8080/"
        },
        "id": "CVRoMpyi_bDD",
        "outputId": "648bb274-4f36-4fca-db6f-94923ee6fb8c"
      },
      "execution_count": 37,
      "outputs": [
        {
          "output_type": "stream",
          "name": "stdout",
          "text": [
            "The BMW 7-series car gives the mileage of 39.53km/l\n",
            "The Audi A8 L car gives the mileage of 14km/l\n",
            "This is the description method of class Audi.\n"
          ]
        }
      ]
    },
    {
      "cell_type": "code",
      "source": [
        "class Car: #parent class\n",
        "  def __init__(self,name,mileage):\n",
        "    self.name = name\n",
        "    self.mileage = mileage\n",
        "\n",
        "  def description(self):\n",
        "    return f\"The {self.name} car gives the mileage of {self.mileage}km/l\"\n",
        "\n",
        "class BMW(Car): #child class\n",
        "  pass\n",
        "\n",
        "class Audi(Car): #child class\n",
        "  def audi_desc(self):\n",
        "    return f\"This is the description method of class Audi.\"\n",
        "\n",
        "bmw = BMW(\"BMW 7-series\", 39.53)\n",
        "print(bmw.description())\n",
        "audi = Audi(\"Audi A8 L\", 14)\n",
        "print(audi.audi_desc())"
      ],
      "metadata": {
        "colab": {
          "base_uri": "https://localhost:8080/"
        },
        "id": "RUJ3vwDaEKc7",
        "outputId": "e843fb69-c927-4cdb-9eb6-75f46032e3b0"
      },
      "execution_count": 38,
      "outputs": [
        {
          "output_type": "stream",
          "name": "stdout",
          "text": [
            "The BMW 7-series car gives the mileage of 39.53km/l\n",
            "This is the description method of class Audi.\n"
          ]
        }
      ]
    },
    {
      "cell_type": "markdown",
      "source": [
        "> Apply the OOP concepts like Class Constructor, Methods, Inheritance to describe the sides of shapes (e.g. triangle, square, rectangle)"
      ],
      "metadata": {
        "id": "ImHC9EKfETvr"
      }
    },
    {
      "cell_type": "code",
      "source": [
        "class shapes:\n",
        "  def __init__(self,name,sides):\n",
        "    self.name = name\n",
        "    self.sides = sides\n",
        "\n",
        "  def description(self):\n",
        "    return f\"{self.name} has {self.sides} sides.\"\n",
        "\n",
        "class triangle(shapes):\n",
        "  pass\n",
        "\n",
        "class square(shapes):\n",
        "  pass\n",
        "\n",
        "class rectangle(shapes):\n",
        "  pass\n",
        "\n",
        "#Object Instantiation\n",
        "triangle = triangle(\"Triangle\",3)\n",
        "print(triangle.description())\n",
        "\n",
        "square = square(\"Square\",4)\n",
        "print(square.description())\n",
        "\n",
        "rectangle = rectangle(\"Rectangle\",4)\n",
        "print(rectangle.description())"
      ],
      "metadata": {
        "colab": {
          "base_uri": "https://localhost:8080/"
        },
        "id": "Dai4kmWIEtOS",
        "outputId": "fd932c19-aebb-49ac-90ec-520ab9209c35"
      },
      "execution_count": 42,
      "outputs": [
        {
          "output_type": "stream",
          "name": "stdout",
          "text": [
            "Triangle has 3 sides.\n",
            "Square has 4 sides.\n",
            "Rectangle has 4 sides.\n"
          ]
        }
      ]
    }
  ]
}
