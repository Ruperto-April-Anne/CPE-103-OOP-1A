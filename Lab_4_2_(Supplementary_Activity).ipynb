{
  "nbformat": 4,
  "nbformat_minor": 0,
  "metadata": {
    "colab": {
      "provenance": [],
      "authorship_tag": "ABX9TyNEuAQ1tH58OW+cOydfJLYq",
      "include_colab_link": true
    },
    "kernelspec": {
      "name": "python3",
      "display_name": "Python 3"
    },
    "language_info": {
      "name": "python"
    }
  },
  "cells": [
    {
      "cell_type": "markdown",
      "metadata": {
        "id": "view-in-github",
        "colab_type": "text"
      },
      "source": [
        "<a href=\"https://colab.research.google.com/github/Ruperto-April-Anne/CPE-103-OOP-1A/blob/main/Lab_4_2_(Supplementary_Activity).ipynb\" target=\"_parent\"><img src=\"https://colab.research.google.com/assets/colab-badge.svg\" alt=\"Open In Colab\"/></a>"
      ]
    },
    {
      "cell_type": "markdown",
      "source": [
        "1.\tTake the following Python code that stores a string:\n",
        "str = 'CPE-CPE009A-2025: 0.8475'\n",
        "Use find and string slicing to extract the portion of the string after the colon character and then use the float function to convert the extracted string into a floating point number.\n"
      ],
      "metadata": {
        "id": "963QG11sQTL9"
      }
    },
    {
      "cell_type": "code",
      "execution_count": 1,
      "metadata": {
        "colab": {
          "base_uri": "https://localhost:8080/"
        },
        "id": "IS2XGRA6PizG",
        "outputId": "638349b5-bc23-4dde-afdf-d89851c9a7f2"
      },
      "outputs": [
        {
          "output_type": "stream",
          "name": "stdout",
          "text": [
            "0.8475\n"
          ]
        }
      ],
      "source": [
        "str = 'CPE-CPE009A-2025: 0.8475'\n",
        "\n",
        "colon_index = str.find(':')\n",
        "\n",
        "number_str = str[colon_index + 1:].strip()\n",
        "\n",
        "number = float(number_str)\n",
        "\n",
        "print(number)\n"
      ]
    },
    {
      "cell_type": "markdown",
      "source": [
        "2.\tWrite a python program that asks the user for their first name and convert it in to as a string. Print out the 3 words middle of the name using slice.  "
      ],
      "metadata": {
        "id": "AbyxqJGOQOws"
      }
    },
    {
      "cell_type": "code",
      "source": [
        "full_name = input(\"Please enter your full name: \")\n",
        "\n",
        "name_parts = full_name.split()\n",
        "\n",
        "if len(name_parts) >= 3:\n",
        "    middle_three_words = name_parts[1:-1]\n",
        "\n",
        "    middle_name = ' '.join(middle_three_words)\n",
        "    print(\"The middle part of your name is:\", middle_name)\n",
        "else:\n",
        "    print(\"Your name does not have enough words to extract the middle three.\")\n"
      ],
      "metadata": {
        "colab": {
          "base_uri": "https://localhost:8080/"
        },
        "id": "a4eq7UIcQCP8",
        "outputId": "3b846e7b-c69d-4f79-9735-df71c38ec93d"
      },
      "execution_count": 2,
      "outputs": [
        {
          "output_type": "stream",
          "name": "stdout",
          "text": [
            "Please enter your full name: April Anne Ruperto\n",
            "The middle part of your name is: Anne\n"
          ]
        }
      ]
    }
  ]
}