{
  "nbformat": 4,
  "nbformat_minor": 0,
  "metadata": {
    "colab": {
      "provenance": [],
      "mount_file_id": "11PX01Qu1G4te8oYUlSkx64_P3wMvWNIp",
      "authorship_tag": "ABX9TyP+ucxFZZxaBqkOnfY2rypZ",
      "include_colab_link": true
    },
    "kernelspec": {
      "name": "python3",
      "display_name": "Python 3"
    },
    "language_info": {
      "name": "python"
    }
  },
  "cells": [
    {
      "cell_type": "markdown",
      "metadata": {
        "id": "view-in-github",
        "colab_type": "text"
      },
      "source": [
        "<a href=\"https://colab.research.google.com/github/Ruperto-April-Anne/CPE-103-OOP-1A/blob/main/Laboratory_Activity_No3_1.ipynb\" target=\"_parent\"><img src=\"https://colab.research.google.com/assets/colab-badge.svg\" alt=\"Open In Colab\"/></a>"
      ]
    },
    {
      "cell_type": "markdown",
      "source": [
        "**Accounts.py**"
      ],
      "metadata": {
        "id": "r8qVDWG1o_ZW"
      }
    },
    {
      "cell_type": "code",
      "source": [
        "class Accounts():\n",
        " def __init__(self, account_number, account_firstname, account_lastname, current_balance, address, email):\n",
        "  self.account_number = account_number\n",
        "  self.account_firstname = account_firstname\n",
        "  self.account_lastname = account_lastname\n",
        "  self.current_balance = current_balance\n",
        "  self.address = address\n",
        "  self.email = email\n",
        "\n",
        "  def update_address(new_address):\n",
        "    Accounts.address = new_address\n",
        "\n",
        "  def update_email(new_email):\n",
        "    Accounts.email = new_email\n"
      ],
      "metadata": {
        "id": "YrGgQDpgon7v"
      },
      "execution_count": 9,
      "outputs": []
    },
    {
      "cell_type": "markdown",
      "source": [
        "**ATM.py**"
      ],
      "metadata": {
        "id": "jCKR597-pF0l"
      }
    },
    {
      "cell_type": "code",
      "source": [
        "class ATM():\n",
        " serial_number = 0\n",
        "\n",
        " def deposit(self, account, amount):\n",
        "  account.current_balance = account.current_balance + amount\n",
        "  print(\"Deposit Complete\")\n",
        "\n",
        " def withdraw(self, account, amount):\n",
        "  account.current_balance = account.current_balance - amount\n",
        "  print(\"Withdraw Complete\")\n",
        "\n",
        " def check_currentbalance(self, account):\n",
        "  print(account.current_balance)"
      ],
      "metadata": {
        "id": "OEMIBk63ormF"
      },
      "execution_count": 11,
      "outputs": []
    },
    {
      "cell_type": "markdown",
      "source": [
        "**Main.py**"
      ],
      "metadata": {
        "id": "L-T6-r5WpLo9"
      }
    },
    {
      "cell_type": "code",
      "source": [
        "#create the instance/object\n",
        "Account1 = Accounts(account_number=123456, account_firstname=\"Royce\", account_lastname=\"Chua\", current_balance=1000,  address=\"Silver Street Quezon City\", email=\"roycechua123@gmail.com\")\n",
        "\n",
        "print(\"Account 1\")\n",
        "\n",
        "print(Account1.account_firstname)\n",
        "print(Account1.account_lastname)\n",
        "print(Account1.current_balance)\n",
        "print(Account1.address)\n",
        "print(Account1.email)\n",
        "\n",
        "print()\n",
        "\n",
        "Account2 = Accounts(account_number=654321, account_firstname=\"John\", account_lastname=\"Doe\", current_balance=2000, address=\"Gold Street Quezon City\", email = \"johndoe@yahoo.com\")\n",
        "\n",
        "print(\"Account 2\")\n",
        "\n",
        "print(Account2.account_firstname)\n",
        "print(Account2.account_lastname)\n",
        "print(Account2.current_balance)\n",
        "print(Account2.address)\n",
        "print(Account2.email)\n",
        "\n",
        "\n",
        "# Craeting and Using an ATM object\n",
        "ATM1 = ATM()\n",
        "ATM1.deposit(Account1,500)\n",
        "ATM1.check_currentbalance(Account1)\n",
        "\n",
        "ATM1.deposit(Account2,300)\n",
        "ATM1.check_currentbalance(Account2)"
      ],
      "metadata": {
        "colab": {
          "base_uri": "https://localhost:8080/"
        },
        "id": "qHtE5keSR8UM",
        "outputId": "ab11f183-a312-4d32-c21c-697bc67f7c1f"
      },
      "execution_count": 12,
      "outputs": [
        {
          "output_type": "stream",
          "name": "stdout",
          "text": [
            "Account 1\n",
            "Royce\n",
            "Chua\n",
            "1000\n",
            "Silver Street Quezon City\n",
            "roycechua123@gmail.com\n",
            "\n",
            "Account 2\n",
            "John\n",
            "Doe\n",
            "2000\n",
            "Gold Street Quezon City\n",
            "johndoe@yahoo.com\n",
            "Deposit Complete\n",
            "1500\n",
            "Deposit Complete\n",
            "2300\n"
          ]
        }
      ]
    },
    {
      "cell_type": "markdown",
      "source": [
        "> **Supplementary Activity**"
      ],
      "metadata": {
        "id": "SPzwCZbflJbN"
      }
    },
    {
      "cell_type": "markdown",
      "source": [
        "1.\tModify the ATM.py program and add the constructor function."
      ],
      "metadata": {
        "id": "teeAkqTJpf4F"
      }
    },
    {
      "cell_type": "code",
      "source": [
        "class ATM():\n",
        " serial_number = 0\n",
        " def __init__(self, serial_number):\n",
        "  self.serial_number = serial_number\n",
        "\n",
        " def deposit(self, account, amount):\n",
        "  account.current_balance = account.current_balance + amount\n",
        "  print(\"Deposit Complete\")\n",
        "\n",
        " def withdraw(self, account, amount):\n",
        "  account.current_balance = account.current_balance - amount\n",
        "  print(\"Withdraw Complete\")\n",
        "\n",
        " def check_currentbalance(self, account):\n",
        "  print(account.current_balance)"
      ],
      "metadata": {
        "id": "raD-rgm_pfWF"
      },
      "execution_count": 13,
      "outputs": []
    },
    {
      "cell_type": "markdown",
      "source": [
        "2.\tModify the main.py program and initialize the ATM machine with any integer serial number combination and display the serial number at the end of the program."
      ],
      "metadata": {
        "id": "0gAmgZUjp8mu"
      }
    },
    {
      "cell_type": "code",
      "source": [
        "Account1 = Accounts(account_number=123456, account_firstname=\"Royce\", account_lastname=\"Chua\", current_balance=1000,  address=\"Silver Street Quezon City\", email=\"roycechua123@gmail.com\")\n",
        "\n",
        "print(\"Account 1\")\n",
        "print(Account1.account_firstname)\n",
        "print(Account1.account_lastname)\n",
        "print(Account1.current_balance)\n",
        "print(Account1.address)\n",
        "print(Account1.email)\n",
        "\n",
        "print()\n",
        "\n",
        "Account2 = Accounts(account_number=654321, account_firstname=\"John\", account_lastname=\"Doe\", current_balance=2000, address=\"Gold Street Quezon City\", email = \"johndoe@yahoo.com\")\n",
        "\n",
        "print(\"Account 2\")\n",
        "\n",
        "print(Account2.account_firstname)\n",
        "print(Account2.account_lastname)\n",
        "print(Account2.current_balance)\n",
        "print(Account2.address)\n",
        "print(Account2.email)\n",
        "\n",
        "\n",
        "# Craeting and Using an ATM object\n",
        "ATM1 = ATM(serial_number=55242614)\n",
        "ATM1.deposit(Account1,500)\n",
        "ATM1.check_currentbalance(Account1)\n",
        "\n",
        "ATM1.deposit(Account2,300)\n",
        "ATM1.check_currentbalance(Account2)\n",
        "\n",
        "print(ATM1.serial_number)"
      ],
      "metadata": {
        "colab": {
          "base_uri": "https://localhost:8080/"
        },
        "id": "x81GBD4FqCo9",
        "outputId": "ebefa1e9-94a5-49ab-f746-13648b934257"
      },
      "execution_count": 14,
      "outputs": [
        {
          "output_type": "stream",
          "name": "stdout",
          "text": [
            "Account 1\n",
            "Royce\n",
            "Chua\n",
            "1000\n",
            "Silver Street Quezon City\n",
            "roycechua123@gmail.com\n",
            "\n",
            "Account 2\n",
            "John\n",
            "Doe\n",
            "2000\n",
            "Gold Street Quezon City\n",
            "johndoe@yahoo.com\n",
            "Deposit Complete\n",
            "1500\n",
            "Deposit Complete\n",
            "2300\n",
            "55242614\n"
          ]
        }
      ]
    },
    {
      "cell_type": "markdown",
      "source": [
        "3.\tModify the ATM.py program and add the view_transactionsummary() method. The method should display all the transaction made in the ATM object."
      ],
      "metadata": {
        "id": "ahkz0KKjrkIm"
      }
    },
    {
      "cell_type": "code",
      "source": [
        "class ATM():\n",
        " serial_number = 0\n",
        "\n",
        " def deposit(self, account, amount):\n",
        "  account.current_balance = account.current_balance + amount\n",
        "  print(\"Deposit Complete\")\n",
        "\n",
        " def withdraw(self, account, amount):\n",
        "  account.current_balance = account.current_balance - amount\n",
        "  print(\"Withdraw Complete\")\n",
        "\n",
        " def check_currentbalance(self, account):\n",
        "  print(account.current_balance)\n",
        "\n",
        " def view_transactionsummary(self):\n",
        "  print(\"View Transaction Summary\")"
      ],
      "metadata": {
        "id": "vFSN7OUArowW"
      },
      "execution_count": 16,
      "outputs": []
    }
  ]
}