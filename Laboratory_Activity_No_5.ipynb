{
  "nbformat": 4,
  "nbformat_minor": 0,
  "metadata": {
    "colab": {
      "provenance": [],
      "authorship_tag": "ABX9TyOqo+bmcwG0Nojr5+2grVwq",
      "include_colab_link": true
    },
    "kernelspec": {
      "name": "python3",
      "display_name": "Python 3"
    },
    "language_info": {
      "name": "python"
    }
  },
  "cells": [
    {
      "cell_type": "markdown",
      "metadata": {
        "id": "view-in-github",
        "colab_type": "text"
      },
      "source": [
        "<a href=\"https://colab.research.google.com/github/Ruperto-April-Anne/CPE-103-OOP-1A/blob/main/Laboratory_Activity_No_5.ipynb\" target=\"_parent\"><img src=\"https://colab.research.google.com/assets/colab-badge.svg\" alt=\"Open In Colab\"/></a>"
      ]
    },
    {
      "cell_type": "markdown",
      "source": [
        "**Functions**\n",
        "\n",
        "> Exploring Built-in Functions"
      ],
      "metadata": {
        "id": "fuvmM9WWgAiu"
      }
    },
    {
      "cell_type": "code",
      "execution_count": null,
      "metadata": {
        "colab": {
          "base_uri": "https://localhost:8080/"
        },
        "collapsed": true,
        "id": "g-ZSzv0AeTTE",
        "outputId": "5fa39f9f-2f4e-45f2-c113-d81d2875d548"
      },
      "outputs": [
        {
          "output_type": "stream",
          "name": "stdout",
          "text": [
            "Propositional Logic Evaluator For Discrete Math\n",
            "How many variables? 2\n",
            "Enter the proportional logic expression: 3\n",
            "A B f\n",
            "0 0 3\n",
            "0 1 3\n",
            "1 0 3\n",
            "1 1 3\n"
          ]
        }
      ],
      "source": [
        "# Propositional Logic Evaluator For Discrete Math for 2-3 Variables\n",
        "print(\"Propositional Logic Evaluator For Discrete Math\")\n",
        "variables = int(input(\"How many variables? \"))\n",
        "total_combinations = 2**variables\n",
        "\n",
        "combinations_list = [] #store all the possibles combinations\n",
        "\n",
        "# generate the combinations\n",
        "for i in range(total_combinations):\n",
        "  bin_equivalent = bin(i)[2:]\n",
        "  while len(bin_equivalent)<variables:\n",
        "    bin_equivalent = \"0\" + bin_equivalent\n",
        "  combinations_list.append(tuple(int(val) for val in bin_equivalent))\n",
        "  # this will generate a list with values [(0,0),(0,1),(1,0),(1,1)]\n",
        "  # for two variables\n",
        "\n",
        "# main program\n",
        "expression = input(\"Enter the proportional logic expression: \")\n",
        "# note: Only the letters A, B, and C are allowed to be used\n",
        "# example: not(A and B) or (A and C)\n",
        "if variables == 2:\n",
        "  print(\"A B f\")\n",
        "  for A, B in combinations_list:\n",
        "    equivalent_expression = eval(expression)\n",
        "    print(A, B, equivalent_expression)\n",
        "elif variables == 3:\n",
        "  print(\"A B C f\")\n",
        "  for A, B, C in combinations_list:\n",
        "    equivalent_expression = eval(expression)\n",
        "    print(A, B, C, equivalent_expression)\n"
      ]
    },
    {
      "cell_type": "code",
      "source": [
        "name = \"Royce Chua\"\n",
        "file = open(\"newfile1.txt\",'w')\n",
        "file.write(f\"Hello, {name}!\\n\")\n",
        "file.write(\"isn't this amazing!\\n\")\n",
        "file.write(\"that we create and write on text files\\n\")\n",
        "file.write(\"using Python.\")\n",
        "file.close()"
      ],
      "metadata": {
        "id": "YIa-YxG-j05o"
      },
      "execution_count": null,
      "outputs": []
    },
    {
      "cell_type": "code",
      "source": [
        "name = \"Royce Chua\"\n",
        "file = open(\"newfile1.txt\",'w')\n",
        "file.write(f\"Hello, {name}!\\n\")\n",
        "file.write(\"isn't this amazing!\\n\")\n",
        "file.write(\"that we create and write on text files\\n\")\n",
        "file.write(\"using Python.\")\n",
        "file = open(\"newfile2.txt\",'w')\n",
        "print(\"This message was created using Python!\")\n",
        "file.close()"
      ],
      "metadata": {
        "colab": {
          "base_uri": "https://localhost:8080/"
        },
        "collapsed": true,
        "id": "ic8kUvO9kzFn",
        "outputId": "9a06b170-0ca1-46e6-8113-272b1adc41ab"
      },
      "execution_count": null,
      "outputs": [
        {
          "output_type": "stream",
          "name": "stdout",
          "text": [
            "This message was created using Python!\n"
          ]
        }
      ]
    },
    {
      "cell_type": "code",
      "source": [
        "file = open(\"newfile2.txt\", 'r')\n",
        "data = file.read(12)\n",
        "print(data)\n",
        "file.close()"
      ],
      "metadata": {
        "colab": {
          "base_uri": "https://localhost:8080/"
        },
        "collapsed": true,
        "id": "P3COmOX4l1M2",
        "outputId": "9f3bc635-e42f-416a-976d-36e6138134d0"
      },
      "execution_count": null,
      "outputs": [
        {
          "output_type": "stream",
          "name": "stdout",
          "text": [
            "\n"
          ]
        }
      ]
    },
    {
      "cell_type": "code",
      "source": [
        "file = open(\"newfile.2txt\", 'a')\n",
        "file.write(\"and also by the programmer of course. \")\n",
        "file.close()"
      ],
      "metadata": {
        "id": "dXxGJgt-mPzn"
      },
      "execution_count": null,
      "outputs": []
    },
    {
      "cell_type": "markdown",
      "source": [
        "> User-defined Functions"
      ],
      "metadata": {
        "id": "kKDM6BgpmwBu"
      }
    },
    {
      "cell_type": "code",
      "source": [
        "\"\"\"\n",
        "truthtablegenerator.py\n",
        "\"\"\"\n",
        "\n",
        "def generate_truthtable(number_of_variables):\n",
        "  total_combinations = 2**number_of_variables\n",
        "  combination_list = []\n",
        "  for i in range(total_combinations):\n",
        "    bin_equivalent = bin(i)[2:]\n",
        "    while len(bin_equivalent)<number_of_variables:\n",
        "      bin_equivalent = \"0\" + bin_equivalent\n",
        "    combinations_list.append(tuple(int(val) for val in bin_equivalent))\n",
        "  return combination_list\n",
        "\n",
        "print(generate_truthtable(3))"
      ],
      "metadata": {
        "colab": {
          "base_uri": "https://localhost:8080/"
        },
        "id": "ykoirbE9m1x-",
        "outputId": "248ca802-8b69-4897-9366-c731bef933ab"
      },
      "execution_count": null,
      "outputs": [
        {
          "output_type": "stream",
          "name": "stdout",
          "text": [
            "[]\n"
          ]
        }
      ]
    },
    {
      "cell_type": "markdown",
      "source": [
        "**Modules**\n",
        "> Built-in Modules"
      ],
      "metadata": {
        "id": "2Xfr7vy0qu4O"
      }
    },
    {
      "cell_type": "code",
      "source": [
        "import math\n",
        "\n",
        "def quadratic_formula(a,b,c):\n",
        "  if b**2-(4*a*c)<0:\n",
        "    x1 = (complex(-b, math.floor(math.sqrt(abs(b**2-(4*a*c))))))/2*a\n",
        "    x2 = (complex(-b, -1*math.floor(math.sqrt(abs(b**2-(4*a*c))))))/2*a\n",
        "    return x1,x2\n",
        "  else:\n",
        "    x1 = (-b+math.sqrt(b**2-(4*a*c)))/(2*a)\n",
        "    x2 = (-b-math.sqrt(b**2-(4*a*c)))/(2*a)\n",
        "    return x1,x2\n",
        "\n",
        "# print(quadratic_formula(1,12,32))\n",
        "print(quadratic_formula(1,2,3))"
      ],
      "metadata": {
        "colab": {
          "base_uri": "https://localhost:8080/"
        },
        "collapsed": true,
        "id": "GgABzhVXpik1",
        "outputId": "2d4ecea1-ac7c-48c8-ad60-19dbff47bf65"
      },
      "execution_count": null,
      "outputs": [
        {
          "output_type": "stream",
          "name": "stdout",
          "text": [
            "((-1+1j), (-1-1j))\n"
          ]
        }
      ]
    },
    {
      "cell_type": "code",
      "source": [
        "import math\n",
        "\n",
        "def angle_demo(): # the defualt input is in radians\n",
        "  # angle sin(90) = 1 in degress == sin(pi/2)=1 in radians\n",
        "  angle = math.sin(math.pi/2)\n",
        "  print(angle)\n",
        "  #to make in convenient, convert to radians\n",
        "  angle = math.sin(math.radians(90))\n",
        "  print(angle)\n",
        "  # this is also similar for cosine and other trigonometric functions\n",
        "  # hyperbolic functions\n",
        "\n",
        "angle_demo()"
      ],
      "metadata": {
        "colab": {
          "base_uri": "https://localhost:8080/"
        },
        "collapsed": true,
        "id": "Rcq-YXQYs3QF",
        "outputId": "f84dfe1d-886e-4779-a964-1ee1f945cfa0"
      },
      "execution_count": null,
      "outputs": [
        {
          "output_type": "stream",
          "name": "stdout",
          "text": [
            "1.0\n",
            "1.0\n"
          ]
        }
      ]
    },
    {
      "cell_type": "code",
      "source": [
        "import time\n",
        "\n",
        "def pause():\n",
        "  for i in range(10,0,-1):\n",
        "    print(f\"The program will end in {i}..\")\n",
        "    time.sleep(1)\n",
        "\n",
        "pause()\n",
        "\n",
        "def current_time():\n",
        "  t = time.strftime(\"%I:%M %p\")\n",
        "  return t\n",
        "\n",
        "print(current_time())\n",
        "\n",
        "def current_date():\n",
        "  d = time.strftime(\"%b %d %Y\")\n",
        "  return d\n",
        "\n",
        "print(current_date())"
      ],
      "metadata": {
        "colab": {
          "base_uri": "https://localhost:8080/"
        },
        "collapsed": true,
        "id": "zpgLtYbhtyXO",
        "outputId": "5c78cb16-26c7-41e7-b792-979e813bb443"
      },
      "execution_count": null,
      "outputs": [
        {
          "output_type": "stream",
          "name": "stdout",
          "text": [
            "The program will end in 10..\n",
            "The program will end in 9..\n",
            "The program will end in 8..\n",
            "The program will end in 7..\n",
            "The program will end in 6..\n",
            "The program will end in 5..\n",
            "The program will end in 4..\n",
            "The program will end in 3..\n",
            "The program will end in 2..\n",
            "The program will end in 1..\n",
            "08:31 AM\n",
            "Feb 15 2025\n"
          ]
        }
      ]
    },
    {
      "cell_type": "code",
      "source": [
        "import time\n",
        "\n",
        "def pause():\n",
        "  for i in range(10,0,-1):\n",
        "    print(f\"The program will end in {i}..\")\n",
        "    time.sleep(1)\n",
        "\n",
        "def current_time():\n",
        "  t = time.strftime(\"%I:%M %p\")\n",
        "  return t\n",
        "\n",
        "def current_date():\n",
        "  d = time.strftime(\"%b %d %Y\")\n",
        "  return d\n",
        "\n",
        "import datetime\n",
        "\n",
        "current_datetime = datetime.datetime.now()\n",
        "current_time = current_datetime.strftime(\"%I:%M %p\")\n",
        "current_date = current_datetime.strftime(\"%b %d %Y\")\n",
        "\n",
        "print(\"The current time is\", current_time)\n",
        "print(\"The current date is\", current_date)\n"
      ],
      "metadata": {
        "colab": {
          "base_uri": "https://localhost:8080/"
        },
        "collapsed": true,
        "id": "g0t9a-auvFD2",
        "outputId": "aaa198cd-7f2d-4e0e-f413-95988d593934"
      },
      "execution_count": null,
      "outputs": [
        {
          "output_type": "stream",
          "name": "stdout",
          "text": [
            "The current time is 08:38 AM\n",
            "The current date is Feb 15 2025\n"
          ]
        }
      ]
    },
    {
      "cell_type": "markdown",
      "source": [
        "<center>\n",
        "\n",
        "# Supplementary Activity"
      ],
      "metadata": {
        "id": "W7_8Au1cwxgn"
      }
    },
    {
      "cell_type": "markdown",
      "source": [
        "Simple Word Filter\n",
        "1.\tCreate a function that would accept two inputs: a sentence(string), and a list containing bad words that the user would like to censor but not remove. The function should return the newly filtered sentence wherein the bad words are replaced with asterisks equal to the length of the censored word."
      ],
      "metadata": {
        "id": "cnNkVlwBw8XW"
      }
    },
    {
      "cell_type": "code",
      "source": [
        "def censor_bad_words(sentence, bad_words):\n",
        "    words = sentence.split()\n",
        "\n",
        "    for i in range(len(words)):\n",
        "        if words[i].lower() in [word.lower() for word in bad_words]:\n",
        "            words[i] = '*' * len(words[i])\n",
        "\n",
        "    return ' '.join(words)\n",
        "\n",
        "sentence = input(\"Enter a sentence: \")\n",
        "bad_words = [\"bad\", \"inappropriate\", \"dumb\", \"stupid\"]\n",
        "filtered_sentence = censor_bad_words(sentence, bad_words)\n",
        "print(filtered_sentence)\n"
      ],
      "metadata": {
        "colab": {
          "base_uri": "https://localhost:8080/"
        },
        "collapsed": true,
        "id": "NOe9gfPKw6xm",
        "outputId": "24675cd8-f328-4781-a02b-8ca8d7ee1fe2"
      },
      "execution_count": 13,
      "outputs": [
        {
          "output_type": "stream",
          "name": "stdout",
          "text": [
            "Enter a sentence: I'm a bad person.\n",
            "I'm a *** person.\n"
          ]
        }
      ]
    },
    {
      "cell_type": "markdown",
      "source": [
        "2.\tGiven a certain Physics problem create a function(projectilemotion_solver) that would take in the following inputs below and return the needed information when the function is called. Name the program containing the function projectilemotion.py then create another program main_program.py and import projectilemotion.py\n",
        "“A long jumper leaves the ground at an angle of 20.0° above the horizontal and at a speed of 11.0 m/s. “\n",
        "(a)\tHow far does he jump in the horizontal direction?\n",
        "(b)\tWhat is the maximum height reached?\n",
        "Given a projectile motion problem like this where the angle and speed are given, the range or distance travelled in the horizontal direction can be determined by using the formula:\n",
        "𝑅 =\n",
        "𝑣𝑖2𝑠𝑖𝑛2𝜃𝑖\n",
        "𝑔\n",
        "The maximum height can be determined using the formula:\n",
        "ℎ =\n",
        "𝑣𝑖2𝑠𝑖𝑛2𝜃𝑖\n",
        "2𝑔\n"
      ],
      "metadata": {
        "id": "21yDqMxmxAJG"
      }
    },
    {
      "cell_type": "code",
      "source": [
        "import math\n",
        "\n",
        "def projectilemotion_solver(vi, angle_deg):\n",
        "    g = 9.81\n",
        "    angle_rad = math.radians(angle_deg)\n",
        "\n",
        "    range_ = (vi**2 * math.sin(2 * angle_rad)) / g\n",
        "    max_height = (vi**2 * math.sin(angle_rad)**2) / (2 * g)\n",
        "\n",
        "    return range_, max_height\n",
        "\n",
        "def main():\n",
        "    vi = float(input(\"Enter the initial velocity (in m/s): \"))\n",
        "    angle = float(input(\"Enter the launch angle (in degrees): \"))\n",
        "\n",
        "    range_, max_height = projectilemotion_solver(vi, angle)\n",
        "\n",
        "    print(f\"\\nResults:\")\n",
        "    print(f\"Range (distance traveled): {range_:.2f} meters\")\n",
        "    print(f\"Maximum height: {max_height:.2f} meters\")\n",
        "\n",
        "if __name__ == \"__main__\":\n",
        "    main()"
      ],
      "metadata": {
        "colab": {
          "base_uri": "https://localhost:8080/"
        },
        "collapsed": true,
        "id": "t91glss8GFRV",
        "outputId": "1c8e7092-3bff-4815-e262-d6cc5234e0ca"
      },
      "execution_count": 11,
      "outputs": [
        {
          "output_type": "stream",
          "name": "stdout",
          "text": [
            "Enter the initial velocity (in m/s): 10\n",
            "Enter the launch angle (in degrees): 30\n",
            "\n",
            "Results:\n",
            "Range (distance traveled): 8.83 meters\n",
            "Maximum height: 1.27 meters\n"
          ]
        }
      ]
    },
    {
      "cell_type": "markdown",
      "source": [
        "3.\tCreate a quadratic equation solver module that would write the inputs of the user and the corresponding output into text files."
      ],
      "metadata": {
        "id": "jzZFAdsxxE3G"
      }
    },
    {
      "cell_type": "code",
      "source": [
        "import math\n",
        "\n",
        "def quadratic_formula(a, b, c):\n",
        "  discriminant = b**2 - 4*a*c\n",
        "  if discriminant < 0:\n",
        "    return None\n",
        "  else:\n",
        "    x1 = (-b + math.sqrt(discriminant)) / (2 * a)\n",
        "    x2 = (-b - math.sqrt(discriminant)) / (2 * a)\n",
        "    return x1, x2\n",
        "\n",
        "print(\"Enter the coefficients for the quadratic equation ax^2 + bx + c = 0:\")\n",
        "a = float(input(\"Enter coefficient a: \"))\n",
        "b = float(input(\"Enter coefficient b: \"))\n",
        "c = float(input(\"Enter coefficient c: \"))\n",
        "\n",
        "\n",
        "x = quadratic_formula(a, b, c)\n",
        "\n",
        "if x:\n",
        "  print(\"The roots are:\", x)\n",
        "else:\n",
        "  print(\"The equation has no real roots.\")"
      ],
      "metadata": {
        "colab": {
          "base_uri": "https://localhost:8080/"
        },
        "collapsed": true,
        "id": "76ZO9sjE6hL9",
        "outputId": "38866a17-571e-4282-bf50-51499a0cebfa"
      },
      "execution_count": null,
      "outputs": [
        {
          "output_type": "stream",
          "name": "stdout",
          "text": [
            "Enter the coefficients for the quadratic equation ax^2 + bx + c = 0:\n",
            "Enter coefficient a: 1\n",
            "Enter coefficient b: 1\n",
            "Enter coefficient c: .25\n",
            "The roots are: (-0.5, -0.5)\n"
          ]
        }
      ]
    },
    {
      "cell_type": "code",
      "source": [
        "imp           ort math\n",
        "\n",
        "def quadratic_formula(a, b, c):\n",
        "  try:\n",
        "    x1 = (-b + math.sqrt(b**2 - 4*a*c)) / (2 * a)\n",
        "    x2 = (-b - math.sqrt(b**2 - 4*a*c)) / (2 * a)\n",
        "    return x1, x2\n",
        "  except ValueError:\n",
        "    import cmath\n",
        "    x1 = (-b + cmath.sqrt(b**2 - 4*a*c)) / (2 * a)\n",
        "    x2 = (-b - cmath.sqrt(b**2 - 4*a*c)) / (2 * a)\n",
        "    return x1, x2\n",
        "\n",
        "print(\"Enter the coefficients for the quadratic equation ax^2 + bx + c = 0:\")\n",
        "a = float(input(\"Enter coefficient a: \"))\n",
        "b = float(input(\"Enter coefficient b: \"))\n",
        "c = float(input(\"Enter coefficient c: \"))\n",
        "\n",
        "\n",
        "x = quadratic_formula(a, b, c)\n",
        "print(f\"{x[0]:.2f}, {x[1]:.2f}\")"
      ],
      "metadata": {
        "colab": {
          "base_uri": "https://localhost:8080/"
        },
        "collapsed": true,
        "id": "t0KgeRrHDcRV",
        "outputId": "d7d6f957-f0e8-4062-e84f-a27fa25ee3e5"
      },
      "execution_count": 12,
      "outputs": [
        {
          "output_type": "stream",
          "name": "stdout",
          "text": [
            "Enter the coefficients for the quadratic equation ax^2 + bx + c = 0:\n",
            "Enter coefficient a: 1\n",
            "Enter coefficient b: 1\n",
            "Enter coefficient c: .25\n",
            "-0.50, -0.50\n"
          ]
        }
      ]
    }
  ]
}