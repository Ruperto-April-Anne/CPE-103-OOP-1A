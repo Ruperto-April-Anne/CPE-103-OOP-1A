{
  "nbformat": 4,
  "nbformat_minor": 0,
  "metadata": {
    "colab": {
      "provenance": [],
      "toc_visible": true,
      "authorship_tag": "ABX9TyM4j2f7skZTEOA5ER40ixgs",
      "include_colab_link": true
    },
    "kernelspec": {
      "name": "python3",
      "display_name": "Python 3"
    },
    "language_info": {
      "name": "python"
    }
  },
  "cells": [
    {
      "cell_type": "markdown",
      "metadata": {
        "id": "view-in-github",
        "colab_type": "text"
      },
      "source": [
        "<a href=\"https://colab.research.google.com/github/Ruperto-April-Anne/CPE-103-OOP-1A/blob/main/Laboratory_No_2.ipynb\" target=\"_parent\"><img src=\"https://colab.research.google.com/assets/colab-badge.svg\" alt=\"Open In Colab\"/></a>"
      ]
    },
    {
      "cell_type": "markdown",
      "source": [
        "# Assigning Variables of Different Data Types"
      ],
      "metadata": {
        "id": "fkNmMmHlG6B7"
      }
    },
    {
      "cell_type": "code",
      "execution_count": 100,
      "metadata": {
        "colab": {
          "base_uri": "https://localhost:8080/"
        },
        "id": "yDCWBtt1llzc",
        "outputId": "972d3191-7a7b-4e53-f162-c8b993b1a793"
      },
      "outputs": [
        {
          "output_type": "stream",
          "name": "stdout",
          "text": [
            "5\n"
          ]
        },
        {
          "output_type": "execute_result",
          "data": {
            "text/plain": [
              "int"
            ]
          },
          "metadata": {},
          "execution_count": 100
        }
      ],
      "source": [
        "value = 5\n",
        "print(value)\n",
        "type(value)"
      ]
    },
    {
      "cell_type": "code",
      "source": [
        "value = 5.0\n",
        "print(value)\n",
        "type(value)"
      ],
      "metadata": {
        "colab": {
          "base_uri": "https://localhost:8080/"
        },
        "id": "x-a6oHn2nZxY",
        "outputId": "4186d255-1e7f-4bcc-9682-ba8e8a020e66"
      },
      "execution_count": 11,
      "outputs": [
        {
          "output_type": "stream",
          "name": "stdout",
          "text": [
            "5.0\n"
          ]
        },
        {
          "output_type": "execute_result",
          "data": {
            "text/plain": [
              "float"
            ]
          },
          "metadata": {},
          "execution_count": 11
        }
      ]
    },
    {
      "cell_type": "code",
      "source": [
        "#a\n",
        "value = 2+3j\n",
        "print(value)\n",
        "type(value)"
      ],
      "metadata": {
        "colab": {
          "base_uri": "https://localhost:8080/"
        },
        "id": "5lF9zHiNnbsP",
        "outputId": "0cbfe9cf-574b-4ca7-b04c-fa01bb0c01de"
      },
      "execution_count": 101,
      "outputs": [
        {
          "output_type": "stream",
          "name": "stdout",
          "text": [
            "(2+3j)\n"
          ]
        },
        {
          "output_type": "execute_result",
          "data": {
            "text/plain": [
              "complex"
            ]
          },
          "metadata": {},
          "execution_count": 101
        }
      ]
    },
    {
      "cell_type": "code",
      "source": [
        "#b\n",
        "value = 'Hello World'\n",
        "print(value)\n",
        "type(value)"
      ],
      "metadata": {
        "colab": {
          "base_uri": "https://localhost:8080/"
        },
        "id": "Nc9ETxeknhmP",
        "outputId": "dfbd417c-3e73-4c64-a64e-cb4d728699bc"
      },
      "execution_count": 102,
      "outputs": [
        {
          "output_type": "stream",
          "name": "stdout",
          "text": [
            "Hello World\n"
          ]
        },
        {
          "output_type": "execute_result",
          "data": {
            "text/plain": [
              "str"
            ]
          },
          "metadata": {},
          "execution_count": 102
        }
      ]
    },
    {
      "cell_type": "code",
      "source": [
        "#c\n",
        "value = \"Hello World\"\n",
        "print(value)\n",
        "type(value)"
      ],
      "metadata": {
        "colab": {
          "base_uri": "https://localhost:8080/"
        },
        "id": "ONBG9JH5nrXp",
        "outputId": "8aafa07b-2f8d-430e-bb03-55f3d9837f9b"
      },
      "execution_count": 103,
      "outputs": [
        {
          "output_type": "stream",
          "name": "stdout",
          "text": [
            "Hello World\n"
          ]
        },
        {
          "output_type": "execute_result",
          "data": {
            "text/plain": [
              "str"
            ]
          },
          "metadata": {},
          "execution_count": 103
        }
      ]
    },
    {
      "cell_type": "code",
      "source": [
        "#d\n",
        "value = True\n",
        "print(value)\n",
        "type(value)"
      ],
      "metadata": {
        "colab": {
          "base_uri": "https://localhost:8080/"
        },
        "id": "SCy4XCrin2nX",
        "outputId": "149226f6-58f5-4c85-a6aa-0f957f9f53f8"
      },
      "execution_count": 104,
      "outputs": [
        {
          "output_type": "stream",
          "name": "stdout",
          "text": [
            "True\n"
          ]
        },
        {
          "output_type": "execute_result",
          "data": {
            "text/plain": [
              "bool"
            ]
          },
          "metadata": {},
          "execution_count": 104
        }
      ]
    },
    {
      "cell_type": "code",
      "source": [
        "#f\n",
        "value = False\n",
        "print(value)\n",
        "type(value)"
      ],
      "metadata": {
        "colab": {
          "base_uri": "https://localhost:8080/"
        },
        "id": "VAPzHUjcn2ZG",
        "outputId": "4c5cc29d-1b47-44f0-c7e7-4ff19caa7a46"
      },
      "execution_count": 105,
      "outputs": [
        {
          "output_type": "stream",
          "name": "stdout",
          "text": [
            "False\n"
          ]
        },
        {
          "output_type": "execute_result",
          "data": {
            "text/plain": [
              "bool"
            ]
          },
          "metadata": {},
          "execution_count": 105
        }
      ]
    },
    {
      "cell_type": "code",
      "source": [
        "#g\n",
        "value = [1,2,3,4,5]\n",
        "print(value)\n",
        "type(value)"
      ],
      "metadata": {
        "colab": {
          "base_uri": "https://localhost:8080/"
        },
        "id": "Vf5RZc6noA04",
        "outputId": "c57c182c-df74-45f4-a77d-4f207df69455"
      },
      "execution_count": 106,
      "outputs": [
        {
          "output_type": "stream",
          "name": "stdout",
          "text": [
            "[1, 2, 3, 4, 5]\n"
          ]
        },
        {
          "output_type": "execute_result",
          "data": {
            "text/plain": [
              "list"
            ]
          },
          "metadata": {},
          "execution_count": 106
        }
      ]
    },
    {
      "cell_type": "code",
      "source": [
        "#h\n",
        "value = (1,2,3,4,5)\n",
        "print(value)\n",
        "type(value)"
      ],
      "metadata": {
        "colab": {
          "base_uri": "https://localhost:8080/"
        },
        "id": "efNU25ZHoJxn",
        "outputId": "3a052a92-22cd-485f-9515-31135c068060"
      },
      "execution_count": 107,
      "outputs": [
        {
          "output_type": "stream",
          "name": "stdout",
          "text": [
            "(1, 2, 3, 4, 5)\n"
          ]
        },
        {
          "output_type": "execute_result",
          "data": {
            "text/plain": [
              "tuple"
            ]
          },
          "metadata": {},
          "execution_count": 107
        }
      ]
    },
    {
      "cell_type": "code",
      "source": [
        "#i\n",
        "value = {'name':'Your name'}\n",
        "print(value)\n",
        "type(value)"
      ],
      "metadata": {
        "colab": {
          "base_uri": "https://localhost:8080/"
        },
        "id": "TOlcT1mcoOtX",
        "outputId": "aeb695d0-c132-4ca1-da3e-a7eb1eb6bdaf"
      },
      "execution_count": 108,
      "outputs": [
        {
          "output_type": "stream",
          "name": "stdout",
          "text": [
            "{'name': 'Your name'}\n"
          ]
        },
        {
          "output_type": "execute_result",
          "data": {
            "text/plain": [
              "dict"
            ]
          },
          "metadata": {},
          "execution_count": 108
        }
      ]
    },
    {
      "cell_type": "code",
      "source": [
        "#j\n",
        "value = None\n",
        "print(value)\n",
        "type(value)"
      ],
      "metadata": {
        "colab": {
          "base_uri": "https://localhost:8080/"
        },
        "id": "KdC8JylwoWFY",
        "outputId": "92d84a2b-ac1f-4e9c-ec95-f719e9511fcb"
      },
      "execution_count": 109,
      "outputs": [
        {
          "output_type": "stream",
          "name": "stdout",
          "text": [
            "None\n"
          ]
        },
        {
          "output_type": "execute_result",
          "data": {
            "text/plain": [
              "NoneType"
            ]
          },
          "metadata": {},
          "execution_count": 109
        }
      ]
    },
    {
      "cell_type": "code",
      "source": [
        "value = 5\n",
        "print(value)\n",
        "type(value)\n",
        "value2 = -6\n",
        "print(value2)\n",
        "type(value2)"
      ],
      "metadata": {
        "colab": {
          "base_uri": "https://localhost:8080/"
        },
        "id": "1dwGALkboiQs",
        "outputId": "deecbe9b-9221-4a36-8272-91e922dbea45"
      },
      "execution_count": 23,
      "outputs": [
        {
          "output_type": "stream",
          "name": "stdout",
          "text": [
            "5\n",
            "-6\n"
          ]
        },
        {
          "output_type": "execute_result",
          "data": {
            "text/plain": [
              "int"
            ]
          },
          "metadata": {},
          "execution_count": 23
        }
      ]
    },
    {
      "cell_type": "markdown",
      "source": [
        "# Performing Operations with Python"
      ],
      "metadata": {
        "id": "AJSu3Qaxo6lN"
      }
    },
    {
      "cell_type": "markdown",
      "source": [
        "**ADDITION**"
      ],
      "metadata": {
        "id": "JAlmBMMvtkcq"
      }
    },
    {
      "cell_type": "code",
      "source": [
        "value, value2 = 5,6\n",
        "print(value+value2)"
      ],
      "metadata": {
        "colab": {
          "base_uri": "https://localhost:8080/"
        },
        "id": "sDDYslJNo_tc",
        "outputId": "6f646634-8bf9-4cef-f93a-d710a6cdef29"
      },
      "execution_count": 24,
      "outputs": [
        {
          "output_type": "stream",
          "name": "stdout",
          "text": [
            "11\n"
          ]
        }
      ]
    },
    {
      "cell_type": "code",
      "source": [
        "#a\n",
        "value, value2 = 5.0,6\n",
        "print(value+value2)"
      ],
      "metadata": {
        "colab": {
          "base_uri": "https://localhost:8080/"
        },
        "id": "C2DvnvXPpUml",
        "outputId": "0b5c893f-c758-4065-a64c-8841adb94d65"
      },
      "execution_count": 25,
      "outputs": [
        {
          "output_type": "stream",
          "name": "stdout",
          "text": [
            "11.0\n"
          ]
        }
      ]
    },
    {
      "cell_type": "code",
      "source": [
        "#b\n",
        "value, value2 = -5,6.1\n",
        "print(value+value2)"
      ],
      "metadata": {
        "colab": {
          "base_uri": "https://localhost:8080/"
        },
        "id": "un4QQhcKptFO",
        "outputId": "98436b1c-6def-42a1-efb6-294cf1c63668"
      },
      "execution_count": 26,
      "outputs": [
        {
          "output_type": "stream",
          "name": "stdout",
          "text": [
            "1.0999999999999996\n"
          ]
        }
      ]
    },
    {
      "cell_type": "code",
      "source": [
        "#c\n",
        "value, value2 = \"Hello \",\"World\"\n",
        "print(value+value2)"
      ],
      "metadata": {
        "colab": {
          "base_uri": "https://localhost:8080/"
        },
        "id": "RBXYdW51pyXX",
        "outputId": "ef19ee74-9600-493f-9dec-38b7946e9321"
      },
      "execution_count": 27,
      "outputs": [
        {
          "output_type": "stream",
          "name": "stdout",
          "text": [
            "Hello World\n"
          ]
        }
      ]
    },
    {
      "cell_type": "code",
      "source": [
        "#d\n",
        "value, value2 = [1,2,3],[4,5,6]\n",
        "print(value+value2)"
      ],
      "metadata": {
        "colab": {
          "base_uri": "https://localhost:8080/"
        },
        "id": "2Vgy1Eswpyhv",
        "outputId": "cd790f52-ee6b-449d-8eb4-e10227a44897"
      },
      "execution_count": 28,
      "outputs": [
        {
          "output_type": "stream",
          "name": "stdout",
          "text": [
            "[1, 2, 3, 4, 5, 6]\n"
          ]
        }
      ]
    },
    {
      "cell_type": "code",
      "source": [
        "#e\n",
        "value,value2 = (1,2,3),(4,5,6)\n",
        "print(value+value2)"
      ],
      "metadata": {
        "colab": {
          "base_uri": "https://localhost:8080/"
        },
        "id": "FhDyYMhdpy0G",
        "outputId": "ecaeb99e-93f5-4762-c866-cc207abf723b"
      },
      "execution_count": 29,
      "outputs": [
        {
          "output_type": "stream",
          "name": "stdout",
          "text": [
            "(1, 2, 3, 4, 5, 6)\n"
          ]
        }
      ]
    },
    {
      "cell_type": "code",
      "source": [
        "#f\n",
        "value = {\"Name\":\"Royce\"}\n",
        "value2 = {\"Age\":2}\n",
        "\n",
        "result = {**value, **value2}\n",
        "print (result)"
      ],
      "metadata": {
        "colab": {
          "base_uri": "https://localhost:8080/"
        },
        "id": "J9Mfs2jdpzD3",
        "outputId": "1735b78b-fa78-4faf-94df-038a2ec2a660"
      },
      "execution_count": 52,
      "outputs": [
        {
          "output_type": "stream",
          "name": "stdout",
          "text": [
            "{'Name': 'Royce', 'Age': 2}\n"
          ]
        }
      ]
    },
    {
      "cell_type": "markdown",
      "source": [
        "> **SUBTRACTION**"
      ],
      "metadata": {
        "id": "L5SclNmJtq6R"
      }
    },
    {
      "cell_type": "code",
      "source": [
        "value, value2 = 5,6\n",
        "print(value-value2)"
      ],
      "metadata": {
        "colab": {
          "base_uri": "https://localhost:8080/"
        },
        "id": "-JHtosA2tuCX",
        "outputId": "faa56067-0b15-4f83-cb7e-c59d98fefa21"
      },
      "execution_count": 54,
      "outputs": [
        {
          "output_type": "stream",
          "name": "stdout",
          "text": [
            "-1\n"
          ]
        }
      ]
    },
    {
      "cell_type": "code",
      "source": [
        "#a\n",
        "value, value2 = 5.0,6\n",
        "print(value-value2)"
      ],
      "metadata": {
        "colab": {
          "base_uri": "https://localhost:8080/"
        },
        "id": "Vvmt4yFruFqD",
        "outputId": "282f5d6a-59a3-44f0-d872-995855203ea8"
      },
      "execution_count": 53,
      "outputs": [
        {
          "output_type": "stream",
          "name": "stdout",
          "text": [
            "-1.0\n"
          ]
        }
      ]
    },
    {
      "cell_type": "code",
      "source": [
        "#b\n",
        "value, value2 = -5,6.1\n",
        "print(value-value2)"
      ],
      "metadata": {
        "colab": {
          "base_uri": "https://localhost:8080/"
        },
        "id": "RYvndv7ItwgS",
        "outputId": "0db7fd06-8eef-4d7a-f006-bdf29eb71b86"
      },
      "execution_count": 55,
      "outputs": [
        {
          "output_type": "stream",
          "name": "stdout",
          "text": [
            "-11.1\n"
          ]
        }
      ]
    },
    {
      "cell_type": "markdown",
      "source": [
        "**3**"
      ],
      "metadata": {
        "id": "bwZ0MEcVyJl_"
      }
    },
    {
      "cell_type": "code",
      "source": [
        "#a\n",
        "value, value2 = 30, 4\n",
        "print(value*value2)"
      ],
      "metadata": {
        "colab": {
          "base_uri": "https://localhost:8080/"
        },
        "id": "lV1Et-sdyL7f",
        "outputId": "155f49bf-5dec-43f6-f593-16b9597c0cd4"
      },
      "execution_count": 65,
      "outputs": [
        {
          "output_type": "stream",
          "name": "stdout",
          "text": [
            "120\n"
          ]
        }
      ]
    },
    {
      "cell_type": "code",
      "source": [
        "#b\n",
        "value, value2 = 30, 4\n",
        "print(value2**2)"
      ],
      "metadata": {
        "colab": {
          "base_uri": "https://localhost:8080/"
        },
        "id": "JcMgnL62yOtP",
        "outputId": "b75d68fe-542c-47d8-b30d-a5b0f5d5afdb"
      },
      "execution_count": 66,
      "outputs": [
        {
          "output_type": "stream",
          "name": "stdout",
          "text": [
            "16\n"
          ]
        }
      ]
    },
    {
      "cell_type": "code",
      "source": [
        "#c\n",
        "value, value2 = 30, 4\n",
        "print(value2**3)"
      ],
      "metadata": {
        "colab": {
          "base_uri": "https://localhost:8080/"
        },
        "id": "ai3uf8sIyRZ7",
        "outputId": "d661b702-2a8b-4879-be76-4fbfac5b95ad"
      },
      "execution_count": 71,
      "outputs": [
        {
          "output_type": "stream",
          "name": "stdout",
          "text": [
            "64\n"
          ]
        }
      ]
    },
    {
      "cell_type": "code",
      "source": [
        "#d\n",
        "value, value2 = 30, 4\n",
        "print(value*value2+value2**2+1)"
      ],
      "metadata": {
        "colab": {
          "base_uri": "https://localhost:8080/"
        },
        "id": "qkgvRWBjySUb",
        "outputId": "d3851cda-35bb-4883-8b04-418e2dfd1a58"
      },
      "execution_count": 68,
      "outputs": [
        {
          "output_type": "stream",
          "name": "stdout",
          "text": [
            "137\n"
          ]
        }
      ]
    },
    {
      "cell_type": "code",
      "source": [
        "#e\n",
        "value, value2 = 30, 4\n",
        "print(value/value2)"
      ],
      "metadata": {
        "colab": {
          "base_uri": "https://localhost:8080/"
        },
        "id": "NtfTueDbyWQn",
        "outputId": "5e9c9279-aadc-4580-dfb4-a38b27b123c4"
      },
      "execution_count": 69,
      "outputs": [
        {
          "output_type": "stream",
          "name": "stdout",
          "text": [
            "7.5\n"
          ]
        }
      ]
    },
    {
      "cell_type": "code",
      "source": [
        "#f\n",
        "value, value2 = 30, 4.\n",
        "print(value%value2)"
      ],
      "metadata": {
        "colab": {
          "base_uri": "https://localhost:8080/"
        },
        "id": "HJKxpVJlyXJc",
        "outputId": "825d4709-c521-4cfa-db05-27268bb4dab5"
      },
      "execution_count": 70,
      "outputs": [
        {
          "output_type": "stream",
          "name": "stdout",
          "text": [
            "2.0\n"
          ]
        }
      ]
    },
    {
      "cell_type": "markdown",
      "source": [
        "# Assigning Input Data to a Variable"
      ],
      "metadata": {
        "id": "Z8uSUdtTy_KB"
      }
    },
    {
      "cell_type": "code",
      "source": [
        "name = input(\"Enter your name: \")\n",
        "weight = float(input(\"Enter your weight(kg): \"))\n",
        "height = float(input(\"Enter your height(m): \"))\n",
        "bmi = float (weight/height**2)\n",
        "print(\"BMI: \" + str(bmi))"
      ],
      "metadata": {
        "colab": {
          "base_uri": "https://localhost:8080/"
        },
        "id": "INJTLwFuzLZF",
        "outputId": "42e2d998-3d5a-4d6d-f486-544ff0bbd18b"
      },
      "execution_count": 81,
      "outputs": [
        {
          "output_type": "stream",
          "name": "stdout",
          "text": [
            "Enter your name: h\n",
            "Enter your weight(kg): 8\n",
            "Enter your height(m): 8\n",
            "BMI: 0.125\n"
          ]
        }
      ]
    },
    {
      "cell_type": "markdown",
      "source": [
        "# Supplementary Activity:"
      ],
      "metadata": {
        "id": "nYFQp4Tw1QnA"
      }
    },
    {
      "cell_type": "code",
      "source": [
        "#1\n",
        "base = float(input(\"Enter the base of the triangle: \"))\n",
        "height = float(input(\"Enter the height of the triangle: \"))\n",
        "area = float(.5*base*height)\n",
        "print(\"The area of the triangle is \" + str(area))"
      ],
      "metadata": {
        "colab": {
          "base_uri": "https://localhost:8080/"
        },
        "id": "rEvgm-QV1VMO",
        "outputId": "192dd47e-83bc-4766-a397-fb0dd7174257"
      },
      "execution_count": 83,
      "outputs": [
        {
          "output_type": "stream",
          "name": "stdout",
          "text": [
            "Enter the base of the triangle: 3.4\n",
            "Enter the height of the triangle: 5.6\n",
            "The area of the triangle is 9.52\n"
          ]
        }
      ]
    },
    {
      "cell_type": "code",
      "source": [
        "#2\n",
        "print (\"Choose Conversion Unit\")\n",
        "print (\"1. Celcius\")\n",
        "print (\"2. Fahreinheit\")\n",
        "if input() == \"1\":\n",
        " celcius = float(input(\"Enter the temperature in celcius: \"))\n",
        " fahrenheit = float((celcius*9/5)+32)\n",
        " print(\"The temperature in fahrenheit is \" + str(fahrenheit))\n",
        "\n",
        "else :\n",
        " fahrenheit = float(input(\"Enter the temperature in fahrenheit: \"))\n",
        " celcius = float((fahrenheit-32)*5/9)\n",
        " print(\"The temperature in celcius is \" + str(celcius))"
      ],
      "metadata": {
        "colab": {
          "base_uri": "https://localhost:8080/"
        },
        "id": "hViYoWMr2a0-",
        "outputId": "99065be2-5d9f-469b-86b5-a82209569f43"
      },
      "execution_count": 88,
      "outputs": [
        {
          "output_type": "stream",
          "name": "stdout",
          "text": [
            "Choose Conversion Unit\n",
            "1. Celcius\n",
            "2. Fahreinheit\n",
            "1\n",
            "Enter the temperature in celcius: 5\n",
            "The temperature in fahrenheit is 41.0\n"
          ]
        }
      ]
    },
    {
      "cell_type": "code",
      "source": [
        "import math\n",
        "\n",
        "class point:\n",
        "  def __init__(self, x, y):\n",
        "    self.x = x\n",
        "    self.y = y\n",
        "\n",
        "class point1(point):\n",
        "  pass\n",
        "\n",
        "class point2(point):\n",
        "  pass\n",
        "\n",
        "point1 = point1(int(input(\"Enter the x coordinate: \")), int(input(\"Enter the y coordinate: \")))\n",
        "print2 = point2(int(input(\"Enter the x coordinate: \")), int(input(\"Enter the y coordinate: \")))\n",
        "\n",
        "def distance(self, other):\n",
        "    return math.sqrt((self.x - other.x)**2 + (self.y - other.y)**2)\n",
        "print(float(distance(point1, print2)))"
      ],
      "metadata": {
        "colab": {
          "base_uri": "https://localhost:8080/"
        },
        "id": "jJ9H_Urm3q0W",
        "outputId": "46f04e5c-3ae5-4206-c528-b5e8aa0ba812"
      },
      "execution_count": 99,
      "outputs": [
        {
          "output_type": "stream",
          "name": "stdout",
          "text": [
            "Enter the x coordinate: 5\n",
            "Enter the y coordinate: 6\n",
            "Enter the x coordinate: 7\n",
            "Enter the y coordinate: 8\n",
            "2.8284271247461903\n"
          ]
        }
      ]
    },
    {
      "cell_type": "markdown",
      "source": [
        "# Questions:"
      ],
      "metadata": {
        "id": "_eIMPMhiHkmT"
      }
    },
    {
      "cell_type": "markdown",
      "source": [
        "1. Give one major difference in syntax that Python has with other languages such as C?\n",
        "> There are multiple differences in syntax between Python and C. One of them is the implementation of data structures. In C, it requires the programmers to explicitly implement the data structures require for its functions while in Python, these data structures is already built-in within the program."
      ],
      "metadata": {
        "id": "hmJYW7IiHth8"
      }
    },
    {
      "cell_type": "markdown",
      "source": [
        "2.\tHow does variable assignment differ in Python compared with other languages such as C?\n",
        "> Compared to C, programmers no longer need to declare the data type of a variable. Python automatically infers the data type based on the value assigned. In C, programmers must declare the data type of a variable."
      ],
      "metadata": {
        "id": "pMqUSLj_HxNk"
      }
    },
    {
      "cell_type": "markdown",
      "source": [
        "3.\tTry assigning variable names that start with numbers, and special characters. Is the assigning of variables that start with numbers accepted by Python? For Special Characters? Is there an exception for variables special characters?\n",
        "> Assigning a variable that starts with a number\n",
        "will automatically result to a syntax error. However, using characters such as letters, numbers, and underscores (as long as there's no space) will be valid. You can use underscore in the start or at the end of the variable, this is sometimes used to indicate private or internal variables within modules.\n"
      ],
      "metadata": {
        "id": "vSUio8i2H1M0"
      }
    },
    {
      "cell_type": "markdown",
      "source": [
        "4.\tDo the assignment operators (+, -, *, /, %, **) work for all data types? Why or Why not?\n",
        "> Unfortunately no, application of data types depends on the data types used in the program. They usually work at the numeric types and have specific uses for strings and list, nut theyu are not universally applicable to all data types due to the inherent nature of the operations they perform.\n",
        "\n"
      ],
      "metadata": {
        "id": "cFCVar5iH3jO"
      }
    },
    {
      "cell_type": "markdown",
      "source": [
        "5.\tHow does the * operator differ from the ** operator?\n",
        "> The single asterisk (*) is used for multiplication, while double asterisk (**) is used for exponentiation."
      ],
      "metadata": {
        "id": "R5eUtfU-H6Ps"
      }
    },
    {
      "cell_type": "markdown",
      "source": [
        "7. Conclusion:\n",
        "> Whereas C employs curly brackets to define the code block, Python utilizes indentation. With Python's automatic type inference and memory management, variable assignment is dynamic; in contrast, C uses static typing and memory allocation. With the exception of underscores, Python variable names do not start with numbers and adhere to tight character limits. Depending on the type of data, Python assignment operators behave differently. Although their applicability to other kinds is somewhat restricted, they do function as one may anticipate for numeric types. ** is an exponentiation operator, and * is a multiplication or repetition operator. With these differences, it is evident that Python prioritizes readability and usability over C's control and performance."
      ],
      "metadata": {
        "id": "y9837iviH859"
      }
    },
    {
      "cell_type": "markdown",
      "source": [
        "8. Assessment Rubric:"
      ],
      "metadata": {
        "id": "PsOmxvcnH_N-"
      }
    },
    {
      "cell_type": "markdown",
      "source": [
        "> References:\n",
        "- GeeksforGeeks. (2023, February 21). Difference between C and Python. GeeksforGeeks. https://www.geeksforgeeks.org/difference-between-c-and-python/\n",
        "- Built-in exceptions. (n.d.). Python Documentation. https://docs.python.org/3/library/exceptions.html\n",
        "- Molenaar, R. (2022, March 8). Python assignment operators. NetworkLessons.com. https://networklessons.com/python/python-assignment-operators"
      ],
      "metadata": {
        "id": "tW1d73FcIA52"
      }
    }
  ]
}