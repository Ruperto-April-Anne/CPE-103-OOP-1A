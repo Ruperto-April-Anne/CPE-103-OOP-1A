{
  "nbformat": 4,
  "nbformat_minor": 0,
  "metadata": {
    "colab": {
      "provenance": [],
      "authorship_tag": "ABX9TyP+nbwffT4Ug3tpfY7XOZop",
      "include_colab_link": true
    },
    "kernelspec": {
      "name": "python3",
      "display_name": "Python 3"
    },
    "language_info": {
      "name": "python"
    }
  },
  "cells": [
    {
      "cell_type": "markdown",
      "metadata": {
        "id": "view-in-github",
        "colab_type": "text"
      },
      "source": [
        "<a href=\"https://colab.research.google.com/github/Ruperto-April-Anne/CPE-103-OOP-1A/blob/main/Laboratory_No_3_(Accounts).ipynb\" target=\"_parent\"><img src=\"https://colab.research.google.com/assets/colab-badge.svg\" alt=\"Open In Colab\"/></a>"
      ]
    },
    {
      "cell_type": "code",
      "execution_count": 12,
      "metadata": {
        "id": "tyi4RyRb84ND"
      },
      "outputs": [],
      "source": [
        "\"\"\"\n",
        " Accounts.py\n",
        "\"\"\"\n",
        "\n",
        "class Accounts():\n",
        " def __init__(self, account_number, account_firstname, account_lastname, current_balance, address, email):\n",
        "  self.account_number = account_number\n",
        "  self.account_firstname = account_firstname\n",
        "  self.account_lastname = account_lastname\n",
        "  self.current_balance = current_balance\n",
        "  self.address = address\n",
        "  self.email = email\n",
        "\n",
        "  def update_address(new_address):\n",
        "    Accounts.address = new_address\n",
        "\n",
        "  def update_email(new_email):\n",
        "    Accounts.email = new_email"
      ]
    },
    {
      "cell_type": "code",
      "source": [
        "\"\"\"\n",
        " ATM.py\n",
        "\"\"\"\n",
        "\n",
        "class ATM():\n",
        " serial_number = 0\n",
        "\n",
        " def deposit(self, account, amount):\n",
        "  account.current_balance = account.current_balance + amount\n",
        "  print(\"Deposit Complete\")\n",
        "\n",
        " def withdraw(self, account, amount):\n",
        "  account.current_balance = account.current_balance - amount\n",
        "  print(\"Withdraw Complete\")\n",
        "\n",
        " def check_currentbalance(self, account):\n",
        "  print(account.current_balance)"
      ],
      "metadata": {
        "id": "RhEGA9VaB3IF"
      },
      "execution_count": 8,
      "outputs": []
    },
    {
      "cell_type": "code",
      "source": [
        "\"\"\"\n",
        " main.py\n",
        "\"\"\"\n",
        "import Accounts\n",
        "import ATM\n",
        "\n",
        "#create the instance/object\n",
        "Account1 = Accounts.Accounts(account_number=123456, account_firstname=\"Royce\", account_lastname=\"Chua\", current_balance=1000,  address=\"Silver Street Quezon City\", email=\"roycechua123@gmail.com\")\n",
        "\n",
        "print(\"Account 1\")\n",
        "\n",
        "print(Account1.account_firstname)\n",
        "print(Account1.account_lastname)\n",
        "print(Account1.current_balance)\n",
        "print(Account1.address)\n",
        "print(Account1.email)\n",
        "\n",
        "print()\n",
        "\n",
        "Account2 = Accounts.Accounts(account_number=654321, account_firstname=\"John\", account_lastname=\"Doe\", current_balance=2000, address=\"Gold Street Quezon City\", email = \"johndoe@yahoo.com\")\n",
        "\n",
        "print(\"Account 2\")\n",
        "\n",
        "print(Account2.account_firstname)\n",
        "print(Account2.account_lastname)\n",
        "print(Account2.current_balance)\n",
        "print(Account2.address)\n",
        "print(Account2.email)\n",
        "\n",
        "\n",
        "# Craeting and Using an ATM object\n",
        "ATM1 = ATM.ATM()\n",
        "ATM1.deposit(account1,500)\n",
        "ATM1.check_currentbalance(Account1)\n",
        "\n",
        "ATM1.deposit(Account2,300)\n",
        "ATM1.check_currentbalance(Account2)"
      ],
      "metadata": {
        "colab": {
          "base_uri": "https://localhost:8080/",
          "height": 384
        },
        "id": "bUwRG8S7CCgF",
        "outputId": "096c9251-1164-4912-e125-6a418fa16fc0"
      },
      "execution_count": 19,
      "outputs": [
        {
          "output_type": "error",
          "ename": "ModuleNotFoundError",
          "evalue": "No module named 'Accounts'",
          "traceback": [
            "\u001b[0;31m---------------------------------------------------------------------------\u001b[0m",
            "\u001b[0;31mModuleNotFoundError\u001b[0m                       Traceback (most recent call last)",
            "\u001b[0;32m<ipython-input-19-cad980f47eb7>\u001b[0m in \u001b[0;36m<cell line: 0>\u001b[0;34m()\u001b[0m\n\u001b[1;32m      2\u001b[0m  \u001b[0mmain\u001b[0m\u001b[0;34m.\u001b[0m\u001b[0mpy\u001b[0m\u001b[0;34m\u001b[0m\u001b[0;34m\u001b[0m\u001b[0m\n\u001b[1;32m      3\u001b[0m \"\"\"\n\u001b[0;32m----> 4\u001b[0;31m \u001b[0;32mimport\u001b[0m \u001b[0mAccounts\u001b[0m\u001b[0;34m\u001b[0m\u001b[0;34m\u001b[0m\u001b[0m\n\u001b[0m\u001b[1;32m      5\u001b[0m \u001b[0;32mimport\u001b[0m \u001b[0mATM\u001b[0m\u001b[0;34m\u001b[0m\u001b[0;34m\u001b[0m\u001b[0m\n\u001b[1;32m      6\u001b[0m \u001b[0;34m\u001b[0m\u001b[0m\n",
            "\u001b[0;31mModuleNotFoundError\u001b[0m: No module named 'Accounts'",
            "",
            "\u001b[0;31m---------------------------------------------------------------------------\u001b[0;32m\nNOTE: If your import is failing due to a missing package, you can\nmanually install dependencies using either !pip or !apt.\n\nTo view examples of installing some common dependencies, click the\n\"Open Examples\" button below.\n\u001b[0;31m---------------------------------------------------------------------------\u001b[0m\n"
          ],
          "errorDetails": {
            "actions": [
              {
                "action": "open_url",
                "actionText": "Open Examples",
                "url": "/notebooks/snippets/importing_libraries.ipynb"
              }
            ]
          }
        }
      ]
    }
  ]
}