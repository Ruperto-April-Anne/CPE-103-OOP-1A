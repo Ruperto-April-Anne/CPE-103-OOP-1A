{
  "nbformat": 4,
  "nbformat_minor": 0,
  "metadata": {
    "colab": {
      "provenance": [],
      "authorship_tag": "ABX9TyOsxhsvdIGVmqUsgv6UAzyq",
      "include_colab_link": true
    },
    "kernelspec": {
      "name": "python3",
      "display_name": "Python 3"
    },
    "language_info": {
      "name": "python"
    }
  },
  "cells": [
    {
      "cell_type": "markdown",
      "metadata": {
        "id": "view-in-github",
        "colab_type": "text"
      },
      "source": [
        "<a href=\"https://colab.research.google.com/github/Ruperto-April-Anne/CPE-103-OOP-1A/blob/main/Midterm_Exam.ipynb\" target=\"_parent\"><img src=\"https://colab.research.google.com/assets/colab-badge.svg\" alt=\"Open In Colab\"/></a>"
      ]
    },
    {
      "cell_type": "markdown",
      "source": [
        "**Name:** April Anne A. Ruperto\n",
        "**Class:** CPE 103L OOP-IA"
      ],
      "metadata": {
        "id": "Ml4rgY2FSvpF"
      }
    },
    {
      "cell_type": "markdown",
      "source": [
        "> I. Multiple Choice"
      ],
      "metadata": {
        "id": "xEmSFUa8TaCA"
      }
    },
    {
      "cell_type": "code",
      "source": [
        "#1 - 10\n",
        "\n",
        "i = 1\n",
        "while True:\n",
        "  if i%3 == 0:\n",
        "    break\n",
        "  print(i)\n",
        "\n",
        "  i + = 1"
      ],
      "metadata": {
        "colab": {
          "base_uri": "https://localhost:8080/",
          "height": 106
        },
        "id": "GKO0RaChTfD4",
        "outputId": "3a2a6f7b-4a4f-4ee4-aaaa-fb3dbd2b1886"
      },
      "execution_count": 13,
      "outputs": [
        {
          "output_type": "error",
          "ename": "SyntaxError",
          "evalue": "invalid syntax (<ipython-input-13-4faeb64c5f87>, line 9)",
          "traceback": [
            "\u001b[0;36m  File \u001b[0;32m\"<ipython-input-13-4faeb64c5f87>\"\u001b[0;36m, line \u001b[0;32m9\u001b[0m\n\u001b[0;31m    i + = 1\u001b[0m\n\u001b[0m        ^\u001b[0m\n\u001b[0;31mSyntaxError\u001b[0m\u001b[0;31m:\u001b[0m invalid syntax\n"
          ]
        }
      ]
    },
    {
      "cell_type": "code",
      "source": [
        "#11 - 20\n",
        "\n",
        "i = 0\n",
        "while i < 5:\n",
        "  print(i)\n",
        "  i += 1\n",
        "  if 1 == 3:\n",
        "    break\n",
        "\n",
        "else:\n",
        "  print(0)"
      ],
      "metadata": {
        "colab": {
          "base_uri": "https://localhost:8080/"
        },
        "id": "SQMoTR58UMF8",
        "outputId": "12766365-7174-4c82-945c-71c76cdf7a67"
      },
      "execution_count": 7,
      "outputs": [
        {
          "output_type": "stream",
          "name": "stdout",
          "text": [
            "0\n",
            "1\n",
            "2\n",
            "3\n",
            "4\n",
            "0\n"
          ]
        }
      ]
    },
    {
      "cell_type": "code",
      "source": [
        " #21 - 30\n",
        "\n",
        "def f1():\n",
        "  x = 15\n",
        "  print(x)\n",
        "\n",
        "x = 12\n",
        "f1()"
      ],
      "metadata": {
        "colab": {
          "base_uri": "https://localhost:8080/"
        },
        "id": "AndHi596UzmX",
        "outputId": "59ee42da-fa08-48bf-a0bc-ab225d21cf40"
      },
      "execution_count": 8,
      "outputs": [
        {
          "output_type": "stream",
          "name": "stdout",
          "text": [
            "15\n"
          ]
        }
      ]
    },
    {
      "cell_type": "code",
      "source": [
        "#31 - 40\n",
        "\n",
        "class Person():\n",
        "  def __init__(self):\n",
        "    self.__name = \"Default Name\"\n",
        "\n",
        "person1 = Person()\n",
        "print(self.__name)"
      ],
      "metadata": {
        "colab": {
          "base_uri": "https://localhost:8080/",
          "height": 176
        },
        "id": "XDP-rxY3VIDI",
        "outputId": "50c47e5b-8414-45b6-8b81-7b9d19d4ab79"
      },
      "execution_count": 9,
      "outputs": [
        {
          "output_type": "error",
          "ename": "NameError",
          "evalue": "name 'self' is not defined",
          "traceback": [
            "\u001b[0;31m---------------------------------------------------------------------------\u001b[0m",
            "\u001b[0;31mNameError\u001b[0m                                 Traceback (most recent call last)",
            "\u001b[0;32m<ipython-input-9-be8bc6f89fba>\u001b[0m in \u001b[0;36m<cell line: 0>\u001b[0;34m()\u001b[0m\n\u001b[1;32m      6\u001b[0m \u001b[0;34m\u001b[0m\u001b[0m\n\u001b[1;32m      7\u001b[0m \u001b[0mperson1\u001b[0m \u001b[0;34m=\u001b[0m \u001b[0mPerson\u001b[0m\u001b[0;34m(\u001b[0m\u001b[0;34m)\u001b[0m\u001b[0;34m\u001b[0m\u001b[0;34m\u001b[0m\u001b[0m\n\u001b[0;32m----> 8\u001b[0;31m \u001b[0mprint\u001b[0m\u001b[0;34m(\u001b[0m\u001b[0mself\u001b[0m\u001b[0;34m.\u001b[0m\u001b[0m__name\u001b[0m\u001b[0;34m)\u001b[0m\u001b[0;34m\u001b[0m\u001b[0;34m\u001b[0m\u001b[0m\n\u001b[0m",
            "\u001b[0;31mNameError\u001b[0m: name 'self' is not defined"
          ]
        }
      ]
    },
    {
      "cell_type": "code",
      "source": [
        "#41 - 60\n",
        "\n",
        "class Person():\n",
        "  def __init__(self):\n",
        "    self.__name = \"Default Name\"\n",
        "\n",
        "person1 = Person()\n",
        "person2 = Person()\n",
        "print(person1)\n",
        "print(person2)"
      ],
      "metadata": {
        "colab": {
          "base_uri": "https://localhost:8080/"
        },
        "id": "vi3Vx6-TVndb",
        "outputId": "63ed8618-7630-4854-ade9-ccee43b97ad3"
      },
      "execution_count": 11,
      "outputs": [
        {
          "output_type": "stream",
          "name": "stdout",
          "text": [
            "<__main__.Person object at 0x7ed227e3a590>\n",
            "<__main__.Person object at 0x7ed214a798d0>\n"
          ]
        }
      ]
    },
    {
      "cell_type": "code",
      "source": [
        "#61 - 80\n",
        "\n",
        "class Student():\n",
        "  def __init__(self, student_number, name):\n",
        "    self.stu_number = student_number\n",
        "    self.stu_name = name\n",
        "\n",
        "class DSCOfficer(Student):\n",
        "  def __init__(self,department):\n",
        "    self.department = department\n",
        "    self.event_list = []\n",
        "\n",
        "  def initiateEvent(self, name):\n",
        "    self.event_list.append({\"name\":name})\n",
        "\n",
        "officer1 = DSCOfficer(\"CpE\")\n",
        "officer1.initiateEvent(\"General Assembly\")\n",
        "print(officer1.event_list)"
      ],
      "metadata": {
        "colab": {
          "base_uri": "https://localhost:8080/"
        },
        "id": "r9Qhj3xKWOG2",
        "outputId": "2db56aa2-9043-44a1-df50-3639ace83883"
      },
      "execution_count": 12,
      "outputs": [
        {
          "output_type": "stream",
          "name": "stdout",
          "text": [
            "[{'name': 'General Assembly'}]\n"
          ]
        }
      ]
    }
  ]
}