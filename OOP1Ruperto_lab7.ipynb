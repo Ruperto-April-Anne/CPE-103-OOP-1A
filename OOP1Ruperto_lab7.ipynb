{
  "nbformat": 4,
  "nbformat_minor": 0,
  "metadata": {
    "colab": {
      "provenance": [],
      "authorship_tag": "ABX9TyMPRWJ9Y715Bp7GHuBkC8c+",
      "include_colab_link": true
    },
    "kernelspec": {
      "name": "python3",
      "display_name": "Python 3"
    },
    "language_info": {
      "name": "python"
    }
  },
  "cells": [
    {
      "cell_type": "markdown",
      "metadata": {
        "id": "view-in-github",
        "colab_type": "text"
      },
      "source": [
        "<a href=\"https://colab.research.google.com/github/Ruperto-April-Anne/CPE-103-OOP-1A/blob/main/OOP1Ruperto_lab7.ipynb\" target=\"_parent\"><img src=\"https://colab.research.google.com/assets/colab-badge.svg\" alt=\"Open In Colab\"/></a>"
      ]
    },
    {
      "cell_type": "code",
      "execution_count": null,
      "metadata": {
        "colab": {
          "base_uri": "https://localhost:8080/"
        },
        "id": "4MhIkibjApL8",
        "outputId": "f45e536b-fb4b-4433-d645-311daae29672"
      },
      "outputs": [
        {
          "output_type": "stream",
          "name": "stdout",
          "text": [
            "Enter feet and inches of distance1: 5 6\n",
            "Enter feet and inches of distance2: 1 2\n",
            "Distance1 is greater than Distance2\n",
            "Sum of the two Distance is:\n",
            "Feet= 6 Inches= 8\n"
          ]
        }
      ],
      "source": [
        "# distance is a class. Distance is measured in terms of feet and inches\n",
        "class distance:\n",
        "  def __init__(self, f,i):\n",
        "   self.feet=f\n",
        "   self.inches=i\n",
        "\n",
        "# overloading of binary operator > to compare two distances\n",
        "  def __gt__(self,d):\n",
        "    if(self.feet>d.feet):\n",
        "      return(True)\n",
        "    elif((self.feet==d.feet) and (self.inches>d.inches)):\n",
        "      return(True)\n",
        "    else:\n",
        "      return(False)\n",
        "\n",
        "# overloading of binary operator + to add two distances\n",
        "  def __add__(self, d):\n",
        "    i=self.inches + d.inches\n",
        "    f=self.feet + d.feet\n",
        "    if(i>=12):\n",
        "     i=i-12\n",
        "     f=f+1\n",
        "    return distance(f,i)\n",
        "\n",
        "# displaying the distance\n",
        "  def show(self):\n",
        "    print(\"Feet=\", self.feet, \"Inches=\",self.inches)\n",
        "\n",
        "a,b= (input(\"Enter feet and inches of distance1: \")).split()\n",
        "a,b =[int(a),int(b)]\n",
        "\n",
        "c,d= (input(\"Enter feet and inches of distance2: \")).split()\n",
        "c,d =[int(c),int(d)]\n",
        "\n",
        "d1 = distance(a,b)\n",
        "d2 = distance(c,d)\n",
        "\n",
        "if(d1>d2):\n",
        "  print(\"Distance1 is greater than Distance2\")\n",
        "else:\n",
        "  print(\"Distance2 is greater or equal to Distance1\")\n",
        "d3=d1+d2\n",
        "print(\"Sum of the two Distance is:\")\n",
        "d3.show()\n"
      ]
    },
    {
      "cell_type": "code",
      "source": [
        "class RegularPolygon:\n",
        "  def __init__ (self, side):\n",
        "    self._side = side\n",
        "\n",
        "class Square (RegularPolygon):\n",
        "  def area (self):\n",
        "    return self._side * self._side\n",
        "\n",
        "class EquilateralTriangle (RegularPolygon):\n",
        "  def area (self):\n",
        "    return self._side * self._side * 0.433\n",
        "\n",
        "obj1 = Square(4)\n",
        "obj2 = EquilateralTriangle(3)\n",
        "\n",
        "print (obj1.area())\n",
        "print (obj2.area())"
      ],
      "metadata": {
        "colab": {
          "base_uri": "https://localhost:8080/"
        },
        "id": "cC2RZ5CgGXwi",
        "outputId": "eb904c8c-0598-4e8a-c896-0e66b79eb84a"
      },
      "execution_count": null,
      "outputs": [
        {
          "output_type": "stream",
          "name": "stdout",
          "text": [
            "16\n",
            "3.897\n"
          ]
        }
      ]
    },
    {
      "cell_type": "markdown",
      "source": [
        "# **Supplementary Activity**"
      ],
      "metadata": {
        "id": "4I-ryxfQHkUx"
      }
    },
    {
      "cell_type": "code",
      "source": [
        "import math\n",
        "\n",
        "class RegularPolygon:\n",
        "  def __init__ (self, vertices):\n",
        "    self._vertices = vertices\n",
        "\n",
        "#Defining the Rectangle Class\n",
        "class Rectangle (RegularPolygon):\n",
        "  def __init__(self, length, width):\n",
        "    self.length = length\n",
        "    self.width = width\n",
        "\n",
        "  def area (self):\n",
        "    return self.length * self.width\n",
        "\n",
        "#Defining the Circle Class\n",
        "class Circle (RegularPolygon):\n",
        "  def __init__(self, radius):\n",
        "    self.radius = radius\n",
        "\n",
        "  def area (self):\n",
        "    return math.pi * self.radius * self.radius\n",
        "\n",
        "#Defining the Pentagon Class\n",
        "class Pentagon (RegularPolygon):\n",
        "  def area (self):\n",
        "    return 1/2 * math.sqrt(5 * (5 + 2 * math.sqrt(5))) * self._vertices * self._vertices\n",
        "\n",
        "#Creating Objects\n",
        "obj1 = Rectangle(4, 5)\n",
        "obj2 = Circle(3)\n",
        "obj3 = Pentagon(5)\n",
        "\n",
        "#Output\n",
        "print (obj1.area())\n",
        "print (obj2.area())\n",
        "print (obj3.area())"
      ],
      "metadata": {
        "colab": {
          "base_uri": "https://localhost:8080/"
        },
        "id": "VrNLFi0fJy2x",
        "outputId": "9b1cfe42-83d0-494a-ce4e-d3c68d96c1e1"
      },
      "execution_count": null,
      "outputs": [
        {
          "output_type": "stream",
          "name": "stdout",
          "text": [
            "20\n",
            "28.274333882308138\n",
            "86.02387002944835\n"
          ]
        }
      ]
    }
  ]
}