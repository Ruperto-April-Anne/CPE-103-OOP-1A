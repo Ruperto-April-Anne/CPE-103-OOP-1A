{
  "nbformat": 4,
  "nbformat_minor": 0,
  "metadata": {
    "colab": {
      "provenance": [],
      "authorship_tag": "ABX9TyNCaRasWB5+OY3ea5XRRpFC",
      "include_colab_link": true
    },
    "kernelspec": {
      "name": "python3",
      "display_name": "Python 3"
    },
    "language_info": {
      "name": "python"
    }
  },
  "cells": [
    {
      "cell_type": "markdown",
      "metadata": {
        "id": "view-in-github",
        "colab_type": "text"
      },
      "source": [
        "<a href=\"https://colab.research.google.com/github/Ruperto-April-Anne/CPE-103-OOP-1A/blob/main/Operations_and_Expressions_in_Python.ipynb\" target=\"_parent\"><img src=\"https://colab.research.google.com/assets/colab-badge.svg\" alt=\"Open In Colab\"/></a>"
      ]
    },
    {
      "cell_type": "markdown",
      "source": [
        "Boolean Operators"
      ],
      "metadata": {
        "id": "HDIcWOSKxdJ-"
      }
    },
    {
      "cell_type": "code",
      "execution_count": 1,
      "metadata": {
        "colab": {
          "base_uri": "https://localhost:8080/"
        },
        "id": "V2-M81PRwsyo",
        "outputId": "8d89ad21-04ac-43fe-b0c6-6d847ac3eb0f"
      },
      "outputs": [
        {
          "output_type": "stream",
          "name": "stdout",
          "text": [
            "True\n",
            "False\n",
            "False\n"
          ]
        }
      ],
      "source": [
        "print (10 > 9)\n",
        "print (10 == 9)\n",
        "print (10 < 9)"
      ]
    },
    {
      "cell_type": "markdown",
      "source": [
        "bool() Functions"
      ],
      "metadata": {
        "id": "8Obh7LTZzJx9"
      }
    },
    {
      "cell_type": "code",
      "source": [
        "print (bool(\"Hello\"))\n",
        "print (bool(15))\n",
        "print (bool(0)) #Code alwaysinterpret 0 as False\n",
        "print (bool(-2))"
      ],
      "metadata": {
        "colab": {
          "base_uri": "https://localhost:8080/"
        },
        "id": "NDJ8HqD8yrUt",
        "outputId": "4564624e-238f-4faa-a41b-02bc55096510"
      },
      "execution_count": 4,
      "outputs": [
        {
          "output_type": "stream",
          "name": "stdout",
          "text": [
            "True\n",
            "True\n",
            "False\n",
            "True\n"
          ]
        }
      ]
    },
    {
      "cell_type": "code",
      "source": [
        "bool(False)\n",
        "bool(None)\n",
        "bool(0)\n",
        "bool(\"\")\n",
        "bool(())\n",
        "bool([])\n",
        "bool({})"
      ],
      "metadata": {
        "colab": {
          "base_uri": "https://localhost:8080/"
        },
        "id": "zWgdt23Wy6EF",
        "outputId": "0644544b-addd-4bf6-daa2-0e9d06f50924"
      },
      "execution_count": 3,
      "outputs": [
        {
          "output_type": "execute_result",
          "data": {
            "text/plain": [
              "False"
            ]
          },
          "metadata": {},
          "execution_count": 3
        }
      ]
    },
    {
      "cell_type": "markdown",
      "source": [
        "Functions Can Return a Boolean"
      ],
      "metadata": {
        "id": "woqUylRAzhl1"
      }
    },
    {
      "cell_type": "code",
      "source": [
        "def myFunction():\n",
        "    return True\n",
        "\n",
        "print (myFunction())"
      ],
      "metadata": {
        "colab": {
          "base_uri": "https://localhost:8080/"
        },
        "id": "AJDPm8OBzzbt",
        "outputId": "76be335e-1479-4c24-838d-e85016d50ad7"
      },
      "execution_count": 6,
      "outputs": [
        {
          "output_type": "stream",
          "name": "stdout",
          "text": [
            "True\n"
          ]
        }
      ]
    },
    {
      "cell_type": "code",
      "source": [
        "def myFunction():\n",
        "  return True\n",
        "\n",
        "if myFunction():\n",
        " print (\"YES\")\n",
        "\n",
        "else:\n",
        "  print (\"NO\")\n",
        "\n",
        "def myFunction():\n",
        "  return False\n",
        "\n",
        "if myFunction():\n",
        " print (\"\\nYES\")\n",
        "\n",
        "else:\n",
        "  print (\"\\nNO\")"
      ],
      "metadata": {
        "colab": {
          "base_uri": "https://localhost:8080/"
        },
        "id": "wBsu5haT0O19",
        "outputId": "1b0f970c-9c2e-47d0-9dca-dc21ad91a8ba"
      },
      "execution_count": 12,
      "outputs": [
        {
          "output_type": "stream",
          "name": "stdout",
          "text": [
            "YES\n",
            "\n",
            "NO\n"
          ]
        }
      ]
    },
    {
      "cell_type": "code",
      "source": [
        "print (10>9)\n",
        "\n",
        "a = 6\n",
        "b = 7\n",
        "print (a==b)\n",
        "print (a!=a)"
      ],
      "metadata": {
        "colab": {
          "base_uri": "https://localhost:8080/"
        },
        "id": "FTzpL-m_1GE2",
        "outputId": "8fb836fe-a789-4149-b6fe-9d4450cd0d27"
      },
      "execution_count": 16,
      "outputs": [
        {
          "output_type": "stream",
          "name": "stdout",
          "text": [
            "True\n",
            "False\n",
            "False\n"
          ]
        }
      ]
    },
    {
      "cell_type": "markdown",
      "source": [
        "Python Operators"
      ],
      "metadata": {
        "id": "e6h63kIg2DXd"
      }
    },
    {
      "cell_type": "code",
      "source": [
        "print (10 + 5)\n",
        "print (10 - 5)\n",
        "print (10 * 5)\n",
        "print (10 / 5)\n",
        "print (10 % 5)\n",
        "print (10 // 3)\n",
        "print (10 ** 2)"
      ],
      "metadata": {
        "colab": {
          "base_uri": "https://localhost:8080/"
        },
        "id": "fUbUe-i71sLt",
        "outputId": "f5ab638a-e48b-4c61-d964-e5099ef3da2a"
      },
      "execution_count": 23,
      "outputs": [
        {
          "output_type": "stream",
          "name": "stdout",
          "text": [
            "15\n",
            "5\n",
            "50\n",
            "2.0\n",
            "0\n",
            "3\n",
            "100\n"
          ]
        }
      ]
    },
    {
      "cell_type": "markdown",
      "source": [
        "Python Bitwise Opeartors"
      ],
      "metadata": {
        "id": "cjecM1rL3WK3"
      }
    },
    {
      "cell_type": "code",
      "source": [
        "#Use the word AND when handling boolean while use & for bitwise\n",
        "\n",
        "a = 60\n",
        "b = 13\n",
        "\n",
        "print (a & b) #Binary AND, copy\n",
        "print (a | b) #Binary OR, copy a bit, if it exist in either operand\n",
        "print (a ^ b) #Binary XOR, True and False = True, True and True = False, False and False = False\n",
        "print (~a) #Binary Ones Complement, invert all the bits\n",
        "#   0011 1100\n",
        "#           1\n",
        "# = 0011 1101\n",
        "\n",
        "print (a << 2) #Binary Left Shift (in 2 positions)\n",
        "print (a >> 2) #Binary Right Shift"
      ],
      "metadata": {
        "colab": {
          "base_uri": "https://localhost:8080/"
        },
        "id": "TKztvGJI3Z1t",
        "outputId": "6241e6ea-e281-4df8-eafd-47fa9c12df83"
      },
      "execution_count": 30,
      "outputs": [
        {
          "output_type": "stream",
          "name": "stdout",
          "text": [
            "12\n",
            "61\n",
            "49\n",
            "-61\n",
            "240\n",
            "15\n"
          ]
        }
      ]
    },
    {
      "cell_type": "markdown",
      "source": [
        "Python Assignment Operators"
      ],
      "metadata": {
        "id": "Dh_vqzzE-oG2"
      }
    },
    {
      "cell_type": "code",
      "source": [
        "#Shortcut\n",
        "x = 5\n",
        "\n",
        "x +=3\n",
        "print (x)\n",
        "\n",
        "x -=3\n",
        "print (x)\n",
        "\n",
        "x *=3\n",
        "print (x)\n",
        "\n",
        "x /=3\n",
        "print (x)\n",
        "\n",
        "x %=3\n",
        "print (x)\n",
        "\n",
        "x //=3\n",
        "print (x)\n",
        "\n",
        "x **=3\n",
        "print (x)"
      ],
      "metadata": {
        "colab": {
          "base_uri": "https://localhost:8080/"
        },
        "id": "gbDE6KAY-n9O",
        "outputId": "29e1c673-e51e-4338-d214-bfa40808f211"
      },
      "execution_count": 35,
      "outputs": [
        {
          "output_type": "stream",
          "name": "stdout",
          "text": [
            "8\n",
            "5\n",
            "15\n",
            "5.0\n",
            "2.0\n",
            "0.0\n",
            "0.0\n"
          ]
        }
      ]
    },
    {
      "cell_type": "markdown",
      "source": [
        "Logical Operators"
      ],
      "metadata": {
        "id": "JtoI-O-uCupm"
      }
    },
    {
      "cell_type": "code",
      "source": [
        "10>9 and 9>10"
      ],
      "metadata": {
        "colab": {
          "base_uri": "https://localhost:8080/"
        },
        "id": "Dm1zsD3fGOIf",
        "outputId": "16504f15-47e1-405b-e556-a0770c98c697"
      },
      "execution_count": 45,
      "outputs": [
        {
          "output_type": "execute_result",
          "data": {
            "text/plain": [
              "False"
            ]
          },
          "metadata": {},
          "execution_count": 45
        }
      ]
    },
    {
      "cell_type": "code",
      "source": [
        "not(10>9 and 9>10)"
      ],
      "metadata": {
        "colab": {
          "base_uri": "https://localhost:8080/"
        },
        "id": "U8F2_LlTGXve",
        "outputId": "88e4c9f3-a229-41ba-8798-ff93900f13e8"
      },
      "execution_count": 47,
      "outputs": [
        {
          "output_type": "execute_result",
          "data": {
            "text/plain": [
              "True"
            ]
          },
          "metadata": {},
          "execution_count": 47
        }
      ]
    },
    {
      "cell_type": "code",
      "source": [
        "a = True\n",
        "b = False\n",
        "\n",
        "print (a and b) #Logical AND, Both the operands are true then condition becomes true.\n",
        "print (a or b) #Logical OR, Any of the Operands are non-zero then conditions become true.\n",
        "print (not(a and b)) #Logical NOT, Reverse the logical state of its operand.\n",
        "print (not(a or b))"
      ],
      "metadata": {
        "colab": {
          "base_uri": "https://localhost:8080/"
        },
        "id": "g6SAAIn3C1Om",
        "outputId": "909f1ae5-9554-46ca-da7e-2671972de351"
      },
      "execution_count": 44,
      "outputs": [
        {
          "output_type": "stream",
          "name": "stdout",
          "text": [
            "False\n",
            "True\n",
            "True\n",
            "False\n"
          ]
        }
      ]
    },
    {
      "cell_type": "code",
      "source": [
        "a = 10 < 9\n",
        "b = 9 == 9\n",
        "\n",
        "print (a and b) #Logical AND, Both the operands are true then condition becomes true.\n",
        "print (a or b) #Logical OR, Any of the Operands are non-zero then conditions become true.\n",
        "print (not(a and b)) #Logical NOT, Reverse the logical state of its operand.\n",
        "print (not(a or b))"
      ],
      "metadata": {
        "colab": {
          "base_uri": "https://localhost:8080/"
        },
        "id": "Z3Q5_PW5GB4N",
        "outputId": "f2f5701d-27d4-419d-9ff5-d8347003b196"
      },
      "execution_count": 43,
      "outputs": [
        {
          "output_type": "stream",
          "name": "stdout",
          "text": [
            "False\n",
            "True\n",
            "True\n",
            "False\n"
          ]
        }
      ]
    },
    {
      "cell_type": "markdown",
      "source": [
        "Identity"
      ],
      "metadata": {
        "id": "FHZhikvaGu_V"
      }
    },
    {
      "cell_type": "code",
      "source": [
        "x = a\n",
        "y = 2\n",
        "\n",
        "print (x is y)\n",
        "print (x is not y)"
      ],
      "metadata": {
        "colab": {
          "base_uri": "https://localhost:8080/"
        },
        "id": "B3K51eiTGuXn",
        "outputId": "f8a5f617-48ef-457a-8e24-1da18e6c5886"
      },
      "execution_count": 48,
      "outputs": [
        {
          "output_type": "stream",
          "name": "stdout",
          "text": [
            "False\n",
            "True\n"
          ]
        }
      ]
    },
    {
      "cell_type": "markdown",
      "source": [
        "## Conditional Statement in Python"
      ],
      "metadata": {
        "id": "dgH_mTOOI6xV"
      }
    },
    {
      "cell_type": "markdown",
      "source": [
        "Else If Statement"
      ],
      "metadata": {
        "id": "l5Kytkw_PNQn"
      }
    },
    {
      "cell_type": "code",
      "source": [
        "a = 12\n",
        "b = 100\n",
        "\n",
        "if b > a:\n",
        "    print(\"b is greater than a\")\n",
        "elif a == b:\n",
        "    print(\"a and b are equal\")\n",
        "else:\n",
        "    print(\"a is greater than b\")"
      ],
      "metadata": {
        "colab": {
          "base_uri": "https://localhost:8080/"
        },
        "id": "F5z5u-KjI5LF",
        "outputId": "7021b45f-ea94-477b-f66e-cdc0a1240027"
      },
      "execution_count": 50,
      "outputs": [
        {
          "output_type": "stream",
          "name": "stdout",
          "text": [
            "b is greater than a\n"
          ]
        }
      ]
    },
    {
      "cell_type": "code",
      "source": [
        "a = input (\"Enter a number a: \")\n",
        "b = input (\"Enter a number b: \")\n",
        "\n",
        "if b > a:\n",
        "    print(b, \" is greater than \", a, \".\")\n",
        "elif a == b:\n",
        "    print(a, \" and \", b, \"are equal.\")\n",
        "else:\n",
        "    print(a, \" is greater than \", b, \".\")"
      ],
      "metadata": {
        "colab": {
          "base_uri": "https://localhost:8080/"
        },
        "id": "xO5G02KIKFWe",
        "outputId": "c9663e70-a472-4e28-cd04-167a2c29fcdf"
      },
      "execution_count": 58,
      "outputs": [
        {
          "output_type": "stream",
          "name": "stdout",
          "text": [
            "Enter a number a: 4\n",
            "Enter a number b: 6\n",
            "6  is greater than  4 .\n"
          ]
        }
      ]
    },
    {
      "cell_type": "markdown",
      "source": [
        "Short Hand If...Else Statement"
      ],
      "metadata": {
        "id": "4g85VyOdPEYf"
      }
    },
    {
      "cell_type": "code",
      "source": [
        "a = 3\n",
        "b = 2\n",
        "\n",
        "if a > b: print(\"a is greater than b\")\n",
        "else: print(\"b is greater than a\")"
      ],
      "metadata": {
        "colab": {
          "base_uri": "https://localhost:8080/"
        },
        "id": "PWFdcfEnNb52",
        "outputId": "8ce2e796-1a75-46f1-9f84-7e9fe0174c93"
      },
      "execution_count": 69,
      "outputs": [
        {
          "output_type": "stream",
          "name": "stdout",
          "text": [
            "a is greater than b\n"
          ]
        }
      ]
    },
    {
      "cell_type": "code",
      "source": [
        "a = 6\n",
        "b = 5\n",
        "\n",
        "print (\"A\") if a > b else print (\"B\")"
      ],
      "metadata": {
        "colab": {
          "base_uri": "https://localhost:8080/"
        },
        "id": "MjQ-xAZPOuHO",
        "outputId": "e5ccf222-5155-4d62-c4c8-a0d78d46dc4e"
      },
      "execution_count": 67,
      "outputs": [
        {
          "output_type": "stream",
          "name": "stdout",
          "text": [
            "A\n"
          ]
        }
      ]
    },
    {
      "cell_type": "markdown",
      "source": [
        "And - both conditions are True."
      ],
      "metadata": {
        "id": "qoBw5AKQPSim"
      }
    },
    {
      "cell_type": "code",
      "source": [
        "a = 200\n",
        "b = 33\n",
        "c = 500\n",
        "\n",
        "if a > b and c > a:\n",
        "  print(\"Both conditions are True.\")"
      ],
      "metadata": {
        "colab": {
          "base_uri": "https://localhost:8080/"
        },
        "id": "PuyXaKBuOFOu",
        "outputId": "5d016a7a-a053-4048-8b4a-1cfa9fb8c34b"
      },
      "execution_count": 65,
      "outputs": [
        {
          "output_type": "stream",
          "name": "stdout",
          "text": [
            "Both conditions are True.\n"
          ]
        }
      ]
    },
    {
      "cell_type": "markdown",
      "source": [
        "0r - at least one of the conditions is True."
      ],
      "metadata": {
        "id": "52kPhTt_PWe9"
      }
    },
    {
      "cell_type": "code",
      "source": [
        "a = 200\n",
        "b = 33\n",
        "c = 500\n",
        "\n",
        "if a > b and c > a:\n",
        "  print(\"At least one of the conditions is True.\")"
      ],
      "metadata": {
        "colab": {
          "base_uri": "https://localhost:8080/"
        },
        "id": "vfZY-3GOOUnf",
        "outputId": "a3ff512d-a177-4ec4-baf0-17938617ef80"
      },
      "execution_count": 68,
      "outputs": [
        {
          "output_type": "stream",
          "name": "stdout",
          "text": [
            "At least one of the conditions is True.\n"
          ]
        }
      ]
    },
    {
      "cell_type": "markdown",
      "source": [
        "Nested If Else"
      ],
      "metadata": {
        "id": "1qM3zXCfPiKW"
      }
    },
    {
      "cell_type": "code",
      "source": [
        "x = 49\n",
        "\n",
        "if x > 10:\n",
        "  print (\"Above ten,\")\n",
        "  if x > 20:\n",
        "    print (\"and also above 20.\")\n",
        "  else:\n",
        "    print (\"but not above 20.\")\n",
        "  if x > 30:\n",
        "    print (\"and also above 30.\")\n",
        "  else:\n",
        "    print (\"but not above 30.\")\n",
        "  if x > 40:\n",
        "    print (\"and also above 40.\")\n",
        "  else:\n",
        "    print (\"but not above 40.\")\n",
        "  if x > 50:\n",
        "    print (\"and also above 50.\")\n",
        "  else:\n",
        "    print (\"but not above 50.\")"
      ],
      "metadata": {
        "colab": {
          "base_uri": "https://localhost:8080/"
        },
        "id": "p1wHjc0cPk9G",
        "outputId": "51c9a28a-d288-40ba-c97b-16fe376044b3"
      },
      "execution_count": 97,
      "outputs": [
        {
          "output_type": "stream",
          "name": "stdout",
          "text": [
            "Above ten,\n",
            "and also above 20.\n",
            "and also above 30.\n",
            "and also above 40.\n",
            "but not above 50.\n"
          ]
        }
      ]
    },
    {
      "cell_type": "code",
      "source": [
        "#Nested If Else\n",
        "x = 49\n",
        "\n",
        "if x > 10:\n",
        "  print (\"Above ten,\") #Look closely at the indentions\n",
        "  if x > 20:\n",
        "    print (\"and also above 20.\")\n",
        "    if x > 30:\n",
        "      print (\"and also above 30.\")\n",
        "      if x > 40:\n",
        "        print (\"and also above 40.\")\n",
        "        if x > 50:\n",
        "          print (\"and also above 50.\")\n",
        "        else:\n",
        "          print (\"but not above 50.\")\n",
        "      else:\n",
        "        print (\"but not above 40.\")\n",
        "    else:\n",
        "      print (\"but not above 30.\")\n",
        "  else:\n",
        "    print (\"but not above 20.\")\n",
        "else:\n",
        "  print (\"but not above 10.\")"
      ],
      "metadata": {
        "colab": {
          "base_uri": "https://localhost:8080/"
        },
        "id": "r4N2LnwlTlRW",
        "outputId": "aecdacfe-cf4b-49d5-e16e-9c0bf1243a01"
      },
      "execution_count": 101,
      "outputs": [
        {
          "output_type": "stream",
          "name": "stdout",
          "text": [
            "Above ten,\n",
            "and also above 20.\n",
            "and also above 30.\n",
            "and also above 40.\n",
            "but not above 50.\n"
          ]
        }
      ]
    },
    {
      "cell_type": "code",
      "source": [
        "x = input (\"Enter a number: \")\n",
        "x = int(x)\n",
        "\n",
        "if x > 10:\n",
        "  print (\" is above ten,\") #Look closely at the indentions\n",
        "  if x > 20:\n",
        "    print (\"and also above 20.\")\n",
        "    if x > 30:\n",
        "      print (\"and also above 30.\")\n",
        "      if x > 40:\n",
        "        print (\"and also above 40.\")\n",
        "        if x > 50:\n",
        "          print (\"and also above 50.\")\n",
        "        else:\n",
        "          print (\"but not above 50.\")\n",
        "      else:\n",
        "        print (\"but not above 40.\")\n",
        "    else:\n",
        "      print (\"but not above 30.\")\n",
        "  else:\n",
        "    print (\"but not above 20.\")\n",
        "else:\n",
        "  print (\"but not above 10.\")"
      ],
      "metadata": {
        "colab": {
          "base_uri": "https://localhost:8080/"
        },
        "id": "nZpWCrHUV57v",
        "outputId": "2f64e0df-1f52-4da7-faae-92c572e91df4"
      },
      "execution_count": 105,
      "outputs": [
        {
          "output_type": "stream",
          "name": "stdout",
          "text": [
            "Enter a number: 45\n",
            " is above ten,\n",
            "and also above 20.\n",
            "and also above 30.\n",
            "and also above 40.\n",
            "but not above 50.\n"
          ]
        }
      ]
    },
    {
      "cell_type": "markdown",
      "source": [
        "> **Example 1**"
      ],
      "metadata": {
        "id": "1arZ1oyOXPX-"
      }
    },
    {
      "cell_type": "code",
      "source": [
        "class voters():\n",
        "  def __init__(self,name,age):\n",
        "    self.name = name\n",
        "    self.age = age\n",
        "\n",
        "  def description(self):\n",
        "    if self.age < 18:\n",
        "      print(\"You are not qualified to vote.\")\n",
        "    else:\n",
        "      print(\"You are qualified to vote.\")\n",
        "\n",
        "name = input(\"Enter your name: \")\n",
        "age = int(input(\"Enter your age: \"))\n",
        "voter = voters(name,age)\n",
        "voter.description()"
      ],
      "metadata": {
        "colab": {
          "base_uri": "https://localhost:8080/"
        },
        "collapsed": true,
        "id": "MunJ4UV-XVpG",
        "outputId": "d527bb6b-bea4-4d2b-ce09-a88276c42e6e"
      },
      "execution_count": 142,
      "outputs": [
        {
          "output_type": "stream",
          "name": "stdout",
          "text": [
            "Enter your name: Joy\n",
            "Enter your age: 34\n",
            "You are qualified to vote.\n"
          ]
        }
      ]
    },
    {
      "cell_type": "markdown",
      "source": [
        "> **Example 2**"
      ],
      "metadata": {
        "id": "s8cmfXoyd-vv"
      }
    },
    {
      "cell_type": "code",
      "source": [
        "class Number():\n",
        "  def __init__(self,integer):\n",
        "    self.integer = integer\n",
        "\n",
        "  def description(self):\n",
        "    if self.integer == 0:\n",
        "      print(\"Number is zero\")\n",
        "    elif self.integer > 0:\n",
        "      print(\"Number is positive\")\n",
        "    else:\n",
        "      print(\"Number is negative\")\n",
        "\n",
        "integer = int(input(\"Enter a number: \"))\n",
        "number = Number(integer)\n",
        "number.description()"
      ],
      "metadata": {
        "colab": {
          "base_uri": "https://localhost:8080/"
        },
        "id": "OuQyB03haMGX",
        "outputId": "76ed72a9-a7c3-474e-a042-0ca0b87f6826"
      },
      "execution_count": 131,
      "outputs": [
        {
          "output_type": "stream",
          "name": "stdout",
          "text": [
            "Enter a number: -2\n",
            "Number is negative\n"
          ]
        }
      ]
    },
    {
      "cell_type": "markdown",
      "source": [
        "> **Example 3**"
      ],
      "metadata": {
        "id": "KJPVYt8NeCQ-"
      }
    },
    {
      "cell_type": "code",
      "source": [
        "class Grades():\n",
        "  def __init__(self,integer):\n",
        "    self.integer = integer\n",
        "\n",
        "  def description(self):\n",
        "    if self.integer >= 75:\n",
        "      print(\"Passed\")\n",
        "    elif self.integer == 74:\n",
        "      print(\"Remedial\")\n",
        "    else:\n",
        "      print(\"Failed\")\n",
        "\n",
        "integer = float(input(\"Enter your grade: \"))\n",
        "grades = Grades(integer)\n",
        "grades.description()"
      ],
      "metadata": {
        "colab": {
          "base_uri": "https://localhost:8080/"
        },
        "id": "F2EMJf6rbFGO",
        "outputId": "51d212d3-dcef-42cb-dcd1-ce2a9e901544"
      },
      "execution_count": 143,
      "outputs": [
        {
          "output_type": "stream",
          "name": "stdout",
          "text": [
            "Enter your grade: 56\n",
            "Failed\n"
          ]
        }
      ]
    }
  ]
}