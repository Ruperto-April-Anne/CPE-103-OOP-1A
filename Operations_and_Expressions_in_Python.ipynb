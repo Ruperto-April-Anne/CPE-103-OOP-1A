{
  "nbformat": 4,
  "nbformat_minor": 0,
  "metadata": {
    "colab": {
      "provenance": [],
      "authorship_tag": "ABX9TyNxzkHCasAksVa5GNEQhMe2",
      "include_colab_link": true
    },
    "kernelspec": {
      "name": "python3",
      "display_name": "Python 3"
    },
    "language_info": {
      "name": "python"
    }
  },
  "cells": [
    {
      "cell_type": "markdown",
      "metadata": {
        "id": "view-in-github",
        "colab_type": "text"
      },
      "source": [
        "<a href=\"https://colab.research.google.com/github/Ruperto-April-Anne/CPE-103-OOP-1A/blob/main/Operations_and_Expressions_in_Python.ipynb\" target=\"_parent\"><img src=\"https://colab.research.google.com/assets/colab-badge.svg\" alt=\"Open In Colab\"/></a>"
      ]
    },
    {
      "cell_type": "markdown",
      "source": [
        "Boolean Operators"
      ],
      "metadata": {
        "id": "HDIcWOSKxdJ-"
      }
    },
    {
      "cell_type": "code",
      "execution_count": 1,
      "metadata": {
        "colab": {
          "base_uri": "https://localhost:8080/"
        },
        "id": "V2-M81PRwsyo",
        "outputId": "8d89ad21-04ac-43fe-b0c6-6d847ac3eb0f"
      },
      "outputs": [
        {
          "output_type": "stream",
          "name": "stdout",
          "text": [
            "True\n",
            "False\n",
            "False\n"
          ]
        }
      ],
      "source": [
        "print (10 > 9)\n",
        "print (10 == 9)\n",
        "print (10 < 9)"
      ]
    },
    {
      "cell_type": "markdown",
      "source": [
        "bool() Functions"
      ],
      "metadata": {
        "id": "8Obh7LTZzJx9"
      }
    },
    {
      "cell_type": "code",
      "source": [
        "print (bool(\"Hello\"))\n",
        "print (bool(15))\n",
        "print (bool(0)) #Code alwaysinterpret 0 as False\n",
        "print (bool(-2))"
      ],
      "metadata": {
        "colab": {
          "base_uri": "https://localhost:8080/"
        },
        "id": "NDJ8HqD8yrUt",
        "outputId": "4564624e-238f-4faa-a41b-02bc55096510"
      },
      "execution_count": 4,
      "outputs": [
        {
          "output_type": "stream",
          "name": "stdout",
          "text": [
            "True\n",
            "True\n",
            "False\n",
            "True\n"
          ]
        }
      ]
    },
    {
      "cell_type": "code",
      "source": [
        "bool(False)\n",
        "bool(None)\n",
        "bool(0)\n",
        "bool(\"\")\n",
        "bool(())\n",
        "bool([])\n",
        "bool({})"
      ],
      "metadata": {
        "colab": {
          "base_uri": "https://localhost:8080/"
        },
        "id": "zWgdt23Wy6EF",
        "outputId": "0644544b-addd-4bf6-daa2-0e9d06f50924"
      },
      "execution_count": 3,
      "outputs": [
        {
          "output_type": "execute_result",
          "data": {
            "text/plain": [
              "False"
            ]
          },
          "metadata": {},
          "execution_count": 3
        }
      ]
    },
    {
      "cell_type": "markdown",
      "source": [
        "Functions Can Return a Boolean"
      ],
      "metadata": {
        "id": "woqUylRAzhl1"
      }
    },
    {
      "cell_type": "code",
      "source": [
        "def myFunction():\n",
        "    return True\n",
        "\n",
        "print (myFunction())"
      ],
      "metadata": {
        "colab": {
          "base_uri": "https://localhost:8080/"
        },
        "id": "AJDPm8OBzzbt",
        "outputId": "76be335e-1479-4c24-838d-e85016d50ad7"
      },
      "execution_count": 6,
      "outputs": [
        {
          "output_type": "stream",
          "name": "stdout",
          "text": [
            "True\n"
          ]
        }
      ]
    },
    {
      "cell_type": "code",
      "source": [
        "def myFunction():\n",
        "  return True\n",
        "\n",
        "if myFunction():\n",
        " print (\"YES\")\n",
        "\n",
        "else:\n",
        "  print (\"NO\")\n",
        "\n",
        "def myFunction():\n",
        "  return False\n",
        "\n",
        "if myFunction():\n",
        " print (\"\\nYES\")\n",
        "\n",
        "else:\n",
        "  print (\"\\nNO\")"
      ],
      "metadata": {
        "colab": {
          "base_uri": "https://localhost:8080/"
        },
        "id": "wBsu5haT0O19",
        "outputId": "1b0f970c-9c2e-47d0-9dca-dc21ad91a8ba"
      },
      "execution_count": 12,
      "outputs": [
        {
          "output_type": "stream",
          "name": "stdout",
          "text": [
            "YES\n",
            "\n",
            "NO\n"
          ]
        }
      ]
    },
    {
      "cell_type": "code",
      "source": [
        "print (10>9)\n",
        "\n",
        "a = 6\n",
        "b = 7\n",
        "print (a==b)\n",
        "print (a!=a)"
      ],
      "metadata": {
        "colab": {
          "base_uri": "https://localhost:8080/"
        },
        "id": "FTzpL-m_1GE2",
        "outputId": "8fb836fe-a789-4149-b6fe-9d4450cd0d27"
      },
      "execution_count": 16,
      "outputs": [
        {
          "output_type": "stream",
          "name": "stdout",
          "text": [
            "True\n",
            "False\n",
            "False\n"
          ]
        }
      ]
    },
    {
      "cell_type": "markdown",
      "source": [
        "Python Operators"
      ],
      "metadata": {
        "id": "e6h63kIg2DXd"
      }
    },
    {
      "cell_type": "code",
      "source": [
        "print (10 + 5)\n",
        "print (10 - 5)\n",
        "print (10 * 5)\n",
        "print (10 / 5)\n",
        "print (10 % 5)\n",
        "print (10 // 3)\n",
        "print (10 ** 2)"
      ],
      "metadata": {
        "colab": {
          "base_uri": "https://localhost:8080/"
        },
        "id": "fUbUe-i71sLt",
        "outputId": "f5ab638a-e48b-4c61-d964-e5099ef3da2a"
      },
      "execution_count": 23,
      "outputs": [
        {
          "output_type": "stream",
          "name": "stdout",
          "text": [
            "15\n",
            "5\n",
            "50\n",
            "2.0\n",
            "0\n",
            "3\n",
            "100\n"
          ]
        }
      ]
    },
    {
      "cell_type": "markdown",
      "source": [
        "Python Bitwise Opeartors"
      ],
      "metadata": {
        "id": "cjecM1rL3WK3"
      }
    },
    {
      "cell_type": "code",
      "source": [
        "#Use the word AND when handling boolean while use & for bitwise\n",
        "\n",
        "a = 60\n",
        "b = 13\n",
        "\n",
        "print (a & b) #Binary AND, copy\n",
        "print (a | b) #Binary OR, copy a bit, if it exist in either operand\n",
        "print (a ^ b) #Binary XOR, True and False = True, True and True = False, False and False = False\n",
        "print (~a) #Binary Ones Complement, invert all the bits\n",
        "#   0011 1100\n",
        "#           1\n",
        "# = 0011 1101\n",
        "\n",
        "print (a << 2) #Binary Left Shift (in 2 positions)\n",
        "print (a >> 2) #Binary Right Shift"
      ],
      "metadata": {
        "colab": {
          "base_uri": "https://localhost:8080/"
        },
        "id": "TKztvGJI3Z1t",
        "outputId": "6241e6ea-e281-4df8-eafd-47fa9c12df83"
      },
      "execution_count": 30,
      "outputs": [
        {
          "output_type": "stream",
          "name": "stdout",
          "text": [
            "12\n",
            "61\n",
            "49\n",
            "-61\n",
            "240\n",
            "15\n"
          ]
        }
      ]
    },
    {
      "cell_type": "markdown",
      "source": [
        "Python Assignment Operators"
      ],
      "metadata": {
        "id": "Dh_vqzzE-oG2"
      }
    },
    {
      "cell_type": "code",
      "source": [
        "#Shortcut\n",
        "x = 5\n",
        "\n",
        "x +=3\n",
        "print (x)\n",
        "\n",
        "x -=3\n",
        "print (x)\n",
        "\n",
        "x *=3\n",
        "print (x)\n",
        "\n",
        "x /=3\n",
        "print (x)\n",
        "\n",
        "x %=3\n",
        "print (x)\n",
        "\n",
        "x //=3\n",
        "print (x)\n",
        "\n",
        "x **=3\n",
        "print (x)"
      ],
      "metadata": {
        "colab": {
          "base_uri": "https://localhost:8080/"
        },
        "id": "gbDE6KAY-n9O",
        "outputId": "29e1c673-e51e-4338-d214-bfa40808f211"
      },
      "execution_count": 35,
      "outputs": [
        {
          "output_type": "stream",
          "name": "stdout",
          "text": [
            "8\n",
            "5\n",
            "15\n",
            "5.0\n",
            "2.0\n",
            "0.0\n",
            "0.0\n"
          ]
        }
      ]
    },
    {
      "cell_type": "markdown",
      "source": [
        "Logical Operators"
      ],
      "metadata": {
        "id": "JtoI-O-uCupm"
      }
    },
    {
      "cell_type": "code",
      "source": [
        "10>9 and 9>10"
      ],
      "metadata": {
        "colab": {
          "base_uri": "https://localhost:8080/"
        },
        "id": "Dm1zsD3fGOIf",
        "outputId": "16504f15-47e1-405b-e556-a0770c98c697"
      },
      "execution_count": 45,
      "outputs": [
        {
          "output_type": "execute_result",
          "data": {
            "text/plain": [
              "False"
            ]
          },
          "metadata": {},
          "execution_count": 45
        }
      ]
    },
    {
      "cell_type": "code",
      "source": [
        "not(10>9 and 9>10)"
      ],
      "metadata": {
        "colab": {
          "base_uri": "https://localhost:8080/"
        },
        "id": "U8F2_LlTGXve",
        "outputId": "88e4c9f3-a229-41ba-8798-ff93900f13e8"
      },
      "execution_count": 47,
      "outputs": [
        {
          "output_type": "execute_result",
          "data": {
            "text/plain": [
              "True"
            ]
          },
          "metadata": {},
          "execution_count": 47
        }
      ]
    },
    {
      "cell_type": "code",
      "source": [
        "a = True\n",
        "b = False\n",
        "\n",
        "print (a and b) #Logical AND, Both the operands are true then condition becomes true.\n",
        "print (a or b) #Logical OR, Any of the Operands are non-zero then conditions become true.\n",
        "print (not(a and b)) #Logical NOT, Reverse the logical state of its operand.\n",
        "print (not(a or b))"
      ],
      "metadata": {
        "colab": {
          "base_uri": "https://localhost:8080/"
        },
        "id": "g6SAAIn3C1Om",
        "outputId": "909f1ae5-9554-46ca-da7e-2671972de351"
      },
      "execution_count": 44,
      "outputs": [
        {
          "output_type": "stream",
          "name": "stdout",
          "text": [
            "False\n",
            "True\n",
            "True\n",
            "False\n"
          ]
        }
      ]
    },
    {
      "cell_type": "code",
      "source": [
        "a = 10 < 9\n",
        "b = 9 == 9\n",
        "\n",
        "print (a and b) #Logical AND, Both the operands are true then condition becomes true.\n",
        "print (a or b) #Logical OR, Any of the Operands are non-zero then conditions become true.\n",
        "print (not(a and b)) #Logical NOT, Reverse the logical state of its operand.\n",
        "print (not(a or b))"
      ],
      "metadata": {
        "colab": {
          "base_uri": "https://localhost:8080/"
        },
        "id": "Z3Q5_PW5GB4N",
        "outputId": "f2f5701d-27d4-419d-9ff5-d8347003b196"
      },
      "execution_count": 43,
      "outputs": [
        {
          "output_type": "stream",
          "name": "stdout",
          "text": [
            "False\n",
            "True\n",
            "True\n",
            "False\n"
          ]
        }
      ]
    },
    {
      "cell_type": "markdown",
      "source": [
        "Identity"
      ],
      "metadata": {
        "id": "FHZhikvaGu_V"
      }
    },
    {
      "cell_type": "code",
      "source": [
        "x = a\n",
        "y = 2\n",
        "\n",
        "print (x is y)\n",
        "print (x is not y)"
      ],
      "metadata": {
        "colab": {
          "base_uri": "https://localhost:8080/"
        },
        "id": "B3K51eiTGuXn",
        "outputId": "f8a5f617-48ef-457a-8e24-1da18e6c5886"
      },
      "execution_count": 48,
      "outputs": [
        {
          "output_type": "stream",
          "name": "stdout",
          "text": [
            "False\n",
            "True\n"
          ]
        }
      ]
    }
  ]
}